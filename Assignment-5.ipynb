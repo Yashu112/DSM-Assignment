{
 "cells": [
  {
   "cell_type": "markdown",
   "id": "c1dbd6f5-83dc-47c8-b1c4-9aa38ff03864",
   "metadata": {},
   "source": [
    "# OOPs Task Assignment "
   ]
  },
  {
   "cell_type": "code",
   "execution_count": null,
   "id": "dab57fb7-6a67-4099-8477-be238a866d22",
   "metadata": {},
   "outputs": [],
   "source": []
  },
  {
   "cell_type": "markdown",
   "id": "a1690fee-c628-4398-8c34-cb578ac0e7eb",
   "metadata": {},
   "source": [
    "Q1, Create a vehicle class with an init method having instance variables as name_of_vehicle, max_speed\n",
    "and average_of_vehicle."
   ]
  },
  {
   "cell_type": "code",
   "execution_count": 11,
   "id": "a8c67813-4d1e-4459-a18c-837a5e0e3e2a",
   "metadata": {},
   "outputs": [],
   "source": [
    "#Solution-1\n",
    "class vehicle:\n",
    "    \n",
    "    def __init__(self,name_of_vehicle, max_speed, average_of_vehicle):\n",
    "        self.name_of_vehicle = name_of_vehicle\n",
    "        self.max_speed = max_speed\n",
    "        self.average_of_vehicle = average_of_vehicle"
   ]
  },
  {
   "cell_type": "markdown",
   "id": "612f3a3b-31c6-4bc6-bac6-922a408268ce",
   "metadata": {},
   "source": [
    "Q2. Create a child class car from the vehicle class created in Que 1, which will inherit the vehicle class.\n",
    "Create a method named seating_capacity which takes capacity as an argument and returns the name of\n",
    "the vehicle and its seating capacity."
   ]
  },
  {
   "cell_type": "code",
   "execution_count": 10,
   "id": "10935508-070b-4aaf-b84e-1ec33a186721",
   "metadata": {},
   "outputs": [],
   "source": [
    "#Solution-2\n",
    "class car(vehicle):\n",
    "    \n",
    "    def seating_capacity(self,capacity):\n",
    "        self.capacity = capacity\n",
    "        return self.name_of_vehicle, self.capacity\n",
    "        "
   ]
  },
  {
   "cell_type": "code",
   "execution_count": 4,
   "id": "4605a0bc-fc97-4f26-94a1-6db79a7684b9",
   "metadata": {},
   "outputs": [
    {
     "data": {
      "text/plain": [
       "('Sedan', 5)"
      ]
     },
     "execution_count": 4,
     "metadata": {},
     "output_type": "execute_result"
    }
   ],
   "source": [
    "#Example-\n",
    "\n",
    "car_1 = car('Sedan', 150, 55)  #creating an object of class car\n",
    "\n",
    "car_1.seating_capacity(5) #using the method, it returns the name and seating capacity"
   ]
  },
  {
   "cell_type": "markdown",
   "id": "d34443a7-0539-405b-9732-33a3a945da84",
   "metadata": {},
   "source": [
    "Q3. What is multiple inheritance? Write a python code to demonstrate multiple inheritance.\n",
    "\n",
    "Ans. Multiple inheritance is when a class inherits properties of two or more parent classes at the same time.\n",
    "For example-"
   ]
  },
  {
   "cell_type": "code",
   "execution_count": 5,
   "id": "926ec672-9775-467a-9db3-5d6a4a03394e",
   "metadata": {},
   "outputs": [],
   "source": [
    "#Solution -3\n",
    "\n",
    "#Defining base classes to show multiple inheritances\n",
    "class base_1:\n",
    "    \n",
    "    def mesg_1(self):\n",
    "        print('This is base class 1')\n",
    "        \n",
    "class base_2:\n",
    "    \n",
    "    def mesg_2(self):\n",
    "        print('This is base class 2')"
   ]
  },
  {
   "cell_type": "code",
   "execution_count": 8,
   "id": "ff14f5f8-48c8-47fb-84ad-b3bdd9a52b66",
   "metadata": {},
   "outputs": [],
   "source": [
    "#multiple\n",
    "class multiple(base_1, base_2):\n",
    "    \n",
    "    def mesg_multiple(self):\n",
    "        print('this is multiple inheritance- class multiple inherits both base_1 and base_2')"
   ]
  },
  {
   "cell_type": "code",
   "execution_count": 9,
   "id": "ac5a243d-a837-42cb-8a23-5741cca2d4fe",
   "metadata": {},
   "outputs": [
    {
     "name": "stdout",
     "output_type": "stream",
     "text": [
      "this is multiple inheritance- class multiple inherits both base_1 and base_2\n",
      "This is base class 1\n",
      "This is base class 2\n"
     ]
    }
   ],
   "source": [
    "multi = multiple() #object of multiple class\n",
    "\n",
    "multi.mesg_multiple()\n",
    "multi.mesg_1()\n",
    "multi.mesg_2()"
   ]
  },
  {
   "cell_type": "code",
   "execution_count": null,
   "id": "7e37dd3a-b752-4ac5-82c9-114412d7a39c",
   "metadata": {},
   "outputs": [],
   "source": []
  },
  {
   "cell_type": "markdown",
   "id": "b0cbc15a-93b5-40f7-9fef-7342bd5b96f9",
   "metadata": {},
   "source": [
    "Q4. What are getter and setter in python? Create a class and create a getter and a setter method in this\n",
    "class.\n",
    "\n",
    "Ans. Getter and setter are methods of property decorator which can be used to create special functions for getting (accessing) and setting the value of a private/protected class variable which cannot be accessed by the user directly.\n",
    "\n",
    "For example-"
   ]
  },
  {
   "cell_type": "code",
   "execution_count": 10,
   "id": "0a280111-7267-41db-9c6f-3be2f17e8840",
   "metadata": {},
   "outputs": [],
   "source": [
    "#Solution-4\n",
    "class account:\n",
    "    \n",
    "    __bal = 0 #this is a private variable which user cannot access directly\n",
    "        \n",
    "    def deposit(self, amount):\n",
    "        self.__bal += amount\n",
    "        print('Successful')\n",
    "    \n",
    "    def withdraw(self, amount):\n",
    "        if amount <= self.bal:\n",
    "            self.__bal -= amount\n",
    "            print('Successful')\n",
    "        else:\n",
    "            print('Error')\n",
    "        \n",
    "    @property #use of property decorator \n",
    "    def balance_access(self):\n",
    "        return self.__bal\n",
    "    \n",
    "    \n",
    "    @balance_access.getter  #getter method\n",
    "    def show_balance(self):\n",
    "        print(f'Current balance is {self.__bal}')\n",
    "    \n",
    "    @balance_access.setter  #setter method\n",
    "    def set_balance(self,x):\n",
    "        self.__bal = x\n",
    "        print(f'New balance is {self.__bal}')\n",
    "        \n",
    "        "
   ]
  },
  {
   "cell_type": "code",
   "execution_count": 12,
   "id": "2488d5b7-fc59-421b-b6ef-98b0aae76764",
   "metadata": {},
   "outputs": [
    {
     "name": "stdout",
     "output_type": "stream",
     "text": [
      "Current balance is 0\n",
      "\n",
      "New balance is 50000\n"
     ]
    }
   ],
   "source": [
    "#example of implimentation\n",
    "my_acc = account() #creation of object\n",
    "my_acc.show_balance\n",
    "print()\n",
    "my_acc.set_balance = 50000"
   ]
  },
  {
   "cell_type": "code",
   "execution_count": null,
   "id": "1bc023a5-f301-4689-a09e-64e0c3af2b91",
   "metadata": {},
   "outputs": [],
   "source": []
  },
  {
   "cell_type": "markdown",
   "id": "8f373fbd-28d0-4bab-996f-6e7a89e191dd",
   "metadata": {},
   "source": [
    "Q5.What is method overriding in python? Write a python code to demonstrate method overriding.\n",
    "\n",
    "Ans. Suppose there is a child class which has a same method defined in it which is also defined in the parent class, but the impilmentation of method in child class is different then the parent class. Then in this case, when the method is called with an object of child class, code of the method provided in the child class is executed and not provided in parent class. This is called method overriding.\n",
    "\n",
    "For example - in the given example, the method name called with object of child class overrides the method name defined in parent class\n"
   ]
  },
  {
   "cell_type": "code",
   "execution_count": 13,
   "id": "e74ec8e2-ce07-4a66-ae19-c264b54bc026",
   "metadata": {},
   "outputs": [],
   "source": [
    "#Solution-5\n",
    "class parent:\n",
    "    \n",
    "    def name(self):\n",
    "        print('This is parent class')\n",
    "        \n",
    "        \n",
    "class child(parent):\n",
    "    \n",
    "    def name(self):\n",
    "        print('This is child class')\n"
   ]
  },
  {
   "cell_type": "code",
   "execution_count": null,
   "id": "d99f0278-3de3-4492-88c7-02305b57c2d7",
   "metadata": {},
   "outputs": [],
   "source": []
  }
 ],
 "metadata": {
  "kernelspec": {
   "display_name": "Python 3 (ipykernel)",
   "language": "python",
   "name": "python3"
  },
  "language_info": {
   "codemirror_mode": {
    "name": "ipython",
    "version": 3
   },
   "file_extension": ".py",
   "mimetype": "text/x-python",
   "name": "python",
   "nbconvert_exporter": "python",
   "pygments_lexer": "ipython3",
   "version": "3.10.8"
  }
 },
 "nbformat": 4,
 "nbformat_minor": 5
}
