{
 "cells": [
  {
   "cell_type": "markdown",
   "id": "6a5059e3-bd06-4b80-aad4-d01929d238f3",
   "metadata": {},
   "source": [
    "Q1. Which keyword is used to create a function? Create a function to return a list of odd numbers in the range of 1 to 25.\n",
    "\n",
    "Ans. 'def' keyword is used to create a function."
   ]
  },
  {
   "cell_type": "code",
   "execution_count": 25,
   "id": "e7bb308c-06c4-4ed3-95eb-051c87bc6107",
   "metadata": {},
   "outputs": [],
   "source": [
    "def odd_25():\n",
    "    #docstring\n",
    "    \"\"\"Function to return a list of odd numbers in the range of 1 to 25\"\"\"\n",
    "    #function code\n",
    "    l = [i for i in range(26) if i%2!=0]\n",
    "    return l"
   ]
  },
  {
   "cell_type": "code",
   "execution_count": 26,
   "id": "7359ef0c-620f-40a9-8918-d56bb901ee65",
   "metadata": {},
   "outputs": [
    {
     "data": {
      "text/plain": [
       "[1, 3, 5, 7, 9, 11, 13, 15, 17, 19, 21, 23, 25]"
      ]
     },
     "execution_count": 26,
     "metadata": {},
     "output_type": "execute_result"
    }
   ],
   "source": [
    "#calling function\n",
    "odd_25()"
   ]
  },
  {
   "cell_type": "markdown",
   "id": "3c6fa653-dd0f-42ab-8421-f5fe28072736",
   "metadata": {},
   "source": [
    "Q2. Why *args and **kwargs is used in some functions? Create a function each for *args and **kwargs\n",
    "to demonstrate their use.\n",
    "\n",
    "Ans: *args is used to give multiple arguments to a function in form of a tuple.\n",
    "\n",
    "**kwargs is used to give multiple arguments in the form of dictionary, i.e, key-value pair.\n",
    "\n",
    "Examples -"
   ]
  },
  {
   "cell_type": "code",
   "execution_count": 27,
   "id": "1dbcaf3d-ed9d-4cb8-a28e-a7f09700e847",
   "metadata": {},
   "outputs": [
    {
     "data": {
      "text/plain": [
       "15"
      ]
     },
     "execution_count": 27,
     "metadata": {},
     "output_type": "execute_result"
    }
   ],
   "source": [
    "#Solution-2\n",
    "#example of *args function\n",
    "def my_sum(*num):\n",
    "    \"\"\" Return the sum of all integers provided in input\"\"\"\n",
    "    sum_num = 0\n",
    "    for i in range(len(num)):\n",
    "        sum_num = sum_num + num[i]\n",
    "    return sum_num\n",
    "#Example of use of my_sum\n",
    "my_sum(1,2,3,4,5)"
   ]
  },
  {
   "cell_type": "code",
   "execution_count": 28,
   "id": "b5924db1-87f5-4ef3-ac22-caa60e54004a",
   "metadata": {},
   "outputs": [
    {
     "data": {
      "text/plain": [
       "'HelloWorld'"
      ]
     },
     "execution_count": 28,
     "metadata": {},
     "output_type": "execute_result"
    }
   ],
   "source": [
    "#Solution-2\n",
    "\n",
    "#example of **kwargs function\n",
    "def concat(**words):\n",
    "    \"\"\"Concatenate the strings given in input\"\"\"\n",
    "    result = \"\"\n",
    "    for i in words.values():\n",
    "        result += i \n",
    "    return result\n",
    "\n",
    "#Example of use:\n",
    "concat(a='Hello',b='World')"
   ]
  },
  {
   "cell_type": "markdown",
   "id": "e8422227-bfba-425b-b78c-bbd70efcf350",
   "metadata": {},
   "source": [
    "Q3. What is an iterator in python? Name the method used to initialise the iterator object and the method\n",
    "used for iteration. Use these methods to print the first five elements of the given list [2, 4, 6, 8, 10, 12, 14,\n",
    "16, 18, 20].\n",
    "\n",
    "Ans. An iterator is an object in python in which we can fetch the next data item using the next() method. To initialise an iterator object, we can convert an iterable object to iterator using the iter() method. next() method is used for successive iterations. for loop internally uses iter() method and next() method.\n",
    "\n",
    "Example to print 5 elements of given list:"
   ]
  },
  {
   "cell_type": "code",
   "execution_count": 29,
   "id": "5e456216-ca9f-452c-8ce3-88e729862558",
   "metadata": {},
   "outputs": [
    {
     "name": "stdout",
     "output_type": "stream",
     "text": [
      "2\n",
      "4\n",
      "6\n",
      "8\n",
      "10\n"
     ]
    }
   ],
   "source": [
    "#Solution-3:\n",
    "list_num = [2, 4, 6, 8, 10, 12, 14, 16, 18, 20]\n",
    "l = iter(list_num)\n",
    "for i in range(5):\n",
    "    print(next(l))"
   ]
  },
  {
   "cell_type": "markdown",
   "id": "38ceef6f-bfa1-4a31-ac53-1fed2b1d8cba",
   "metadata": {},
   "source": [
    "Q4. What is a generator function in python? Why yield keyword is used? Give an example of a generator\n",
    "function.\n",
    "\n",
    "Ans. A Generator function is a function in python which generates values in a sequence one by one and gives them as output one by one instead of storing all output in memory together. So Generator functions optimize memory usage. Generator funcions can be used as iterator.\n",
    "\n",
    "Yield keyword is used to return the output of generator function one by one. It converts a function into a generator function.\n",
    "\n",
    "Example of generator function:"
   ]
  },
  {
   "cell_type": "code",
   "execution_count": 30,
   "id": "b3652d75-aeb9-4742-b71b-ca191c2244ca",
   "metadata": {},
   "outputs": [
    {
     "name": "stdout",
     "output_type": "stream",
     "text": [
      "H\n",
      "e\n",
      "l\n",
      "l\n",
      "o\n",
      "!\n"
     ]
    }
   ],
   "source": [
    "#Solution-4:\n",
    "def gen(a):\n",
    "    \"\"\"Generator Function to extract all characters of a string separately\"\"\"\n",
    "    for i in a:\n",
    "        yield i\n",
    "#Example of use:\n",
    "g = gen('Hello!')\n",
    "for i in g:\n",
    "    print(i)"
   ]
  },
  {
   "cell_type": "markdown",
   "id": "6b5b8a1b-f99c-4a72-9e8a-41c20546d0fc",
   "metadata": {},
   "source": [
    "Q5. Create a generator function for prime numbers less than 1000. Use the next() method to print the\n",
    "first 20 prime numbers."
   ]
  },
  {
   "cell_type": "code",
   "execution_count": 31,
   "id": "971cb724-2c54-4329-a44e-28fe2f931894",
   "metadata": {},
   "outputs": [
    {
     "name": "stdout",
     "output_type": "stream",
     "text": [
      "Prime number 1 = 2\n",
      "Prime number 2 = 3\n",
      "Prime number 3 = 5\n",
      "Prime number 4 = 7\n",
      "Prime number 5 = 11\n",
      "Prime number 6 = 13\n",
      "Prime number 7 = 17\n",
      "Prime number 8 = 19\n",
      "Prime number 9 = 23\n",
      "Prime number 10 = 29\n",
      "Prime number 11 = 31\n",
      "Prime number 12 = 37\n",
      "Prime number 13 = 41\n",
      "Prime number 14 = 43\n",
      "Prime number 15 = 47\n",
      "Prime number 16 = 53\n",
      "Prime number 17 = 59\n",
      "Prime number 18 = 61\n",
      "Prime number 19 = 67\n",
      "Prime number 20 = 71\n"
     ]
    }
   ],
   "source": [
    "def prime_1000():\n",
    "    p=1000\n",
    "    for num in range(2,p):\n",
    "        for j in range(2, int(num/2)+1):\n",
    "            if (num% j) == 0:\n",
    "                break\n",
    "        else:\n",
    "            yield num\n",
    "\n",
    "#First 20 prime numbers-\n",
    "prime = prime_1000()\n",
    "for i in range(1,21):\n",
    "    print('Prime number {} ='.format(i), next(prime))"
   ]
  },
  {
   "cell_type": "markdown",
   "id": "a1e4374a-5b16-4313-a402-42311199c3d7",
   "metadata": {},
   "source": [
    "Q6. Write a python program to print the first 10 Fibonacci numbers using a while loop."
   ]
  },
  {
   "cell_type": "code",
   "execution_count": 32,
   "id": "729ad806-9294-4b5f-aba8-1dffce5cc8fa",
   "metadata": {},
   "outputs": [
    {
     "name": "stdout",
     "output_type": "stream",
     "text": [
      "0\t1\t1\t2\t3\t5\t8\t13\t21\t34\t"
     ]
    }
   ],
   "source": [
    "#Solution 6:\n",
    "#using generator function\n",
    "def fib(n):\n",
    "    \"\"\" Python function to print the first n Fibonacci numbers using a while loop \"\"\"\n",
    "    a,b=0,1\n",
    "    i=0\n",
    "    while i<n:\n",
    "        yield a\n",
    "        i+=1\n",
    "        a,b = b,a+b\n",
    "for i in fib(10):\n",
    "    print(i, end='\\t') #'\\t' used to print all in a single line"
   ]
  },
  {
   "cell_type": "code",
   "execution_count": 33,
   "id": "9855c6bd-18eb-4af5-b2a5-3821724350ed",
   "metadata": {},
   "outputs": [
    {
     "name": "stdout",
     "output_type": "stream",
     "text": [
      "0\t1\t1\t2\t3\t5\t8\t13\t21\t34\t"
     ]
    }
   ],
   "source": [
    "#Solution-6\n",
    "#without a function\n",
    "a,b=0,1\n",
    "i=0\n",
    "while i<10:\n",
    "    print(a, end='\\t') \n",
    "    i+=1\n",
    "    a,b = b,a+b"
   ]
  },
  {
   "cell_type": "markdown",
   "id": "355e1984-b130-4c1a-9d16-d641ae592dba",
   "metadata": {},
   "source": [
    "Q7. Write a List Comprehension to iterate through the given string: ‘pwskills’.\n",
    "Expected output: ['p', 'w', 's', 'k', 'i', 'l', 'l', 's']"
   ]
  },
  {
   "cell_type": "code",
   "execution_count": 34,
   "id": "cbd35c53-b42e-4ccb-b32a-0d804e1c6544",
   "metadata": {},
   "outputs": [
    {
     "data": {
      "text/plain": [
       "['p', 'w', 's', 'k', 'i', 'l', 'l', 's']"
      ]
     },
     "execution_count": 34,
     "metadata": {},
     "output_type": "execute_result"
    }
   ],
   "source": [
    "#Solution 7:\n",
    "string = 'pwskills'\n",
    "\n",
    "list_string = [ch for ch in string]\n",
    "list_string"
   ]
  },
  {
   "cell_type": "markdown",
   "id": "aff0632f-b527-40f5-8659-3c4da06eb91b",
   "metadata": {},
   "source": [
    "Q8. Write a python program to check whether a given number is Palindrome or not using a while loop."
   ]
  },
  {
   "cell_type": "code",
   "execution_count": 17,
   "id": "02128045-c3cf-45c5-ab72-85dd316695f4",
   "metadata": {},
   "outputs": [
    {
     "name": "stdout",
     "output_type": "stream",
     "text": [
      "Enter the number:\n"
     ]
    },
    {
     "name": "stdin",
     "output_type": "stream",
     "text": [
      " 123454321\n"
     ]
    },
    {
     "name": "stdout",
     "output_type": "stream",
     "text": [
      "123454321 is a Palindrome\n"
     ]
    }
   ],
   "source": [
    "#Solution-8:\n",
    "#user input\n",
    "print('Enter the number:')\n",
    "num = input() \n",
    "\n",
    "#initialising a reverse number string\n",
    "rev = \"\"\n",
    "\n",
    "#creating reverse number using while loop\n",
    "i = len(num)-1\n",
    "while i >=0:\n",
    "    rev+=num[i]\n",
    "    i-=1\n",
    "\n",
    "#condition check\n",
    "if num == rev:\n",
    "    print('{} is a Palindrome'.format(num))\n",
    "else:\n",
    "    print('{} is not a Palindrome'.format(num))"
   ]
  },
  {
   "cell_type": "markdown",
   "id": "7cda8a2b-c698-4c16-9f4d-5e52fc5fd91b",
   "metadata": {},
   "source": [
    "Q9. Write a code to print odd numbers from 1 to 100 using list comprehension."
   ]
  },
  {
   "cell_type": "code",
   "execution_count": 35,
   "id": "ae77f34c-ce94-4999-b89b-921b467290af",
   "metadata": {},
   "outputs": [
    {
     "data": {
      "text/plain": [
       "[1,\n",
       " 3,\n",
       " 5,\n",
       " 7,\n",
       " 9,\n",
       " 11,\n",
       " 13,\n",
       " 15,\n",
       " 17,\n",
       " 19,\n",
       " 21,\n",
       " 23,\n",
       " 25,\n",
       " 27,\n",
       " 29,\n",
       " 31,\n",
       " 33,\n",
       " 35,\n",
       " 37,\n",
       " 39,\n",
       " 41,\n",
       " 43,\n",
       " 45,\n",
       " 47,\n",
       " 49,\n",
       " 51,\n",
       " 53,\n",
       " 55,\n",
       " 57,\n",
       " 59,\n",
       " 61,\n",
       " 63,\n",
       " 65,\n",
       " 67,\n",
       " 69,\n",
       " 71,\n",
       " 73,\n",
       " 75,\n",
       " 77,\n",
       " 79,\n",
       " 81,\n",
       " 83,\n",
       " 85,\n",
       " 87,\n",
       " 89,\n",
       " 91,\n",
       " 93,\n",
       " 95,\n",
       " 97,\n",
       " 99]"
      ]
     },
     "execution_count": 35,
     "metadata": {},
     "output_type": "execute_result"
    }
   ],
   "source": [
    "#Solution 9:\n",
    "odd_100 = [num for num in range(100) if num%2!=0]\n",
    "odd_100"
   ]
  },
  {
   "cell_type": "code",
   "execution_count": null,
   "id": "665a3a32-3825-4bee-bccf-d4ca5f1b3bdc",
   "metadata": {},
   "outputs": [],
   "source": []
  }
 ],
 "metadata": {
  "kernelspec": {
   "display_name": "Python 3 (ipykernel)",
   "language": "python",
   "name": "python3"
  },
  "language_info": {
   "codemirror_mode": {
    "name": "ipython",
    "version": 3
   },
   "file_extension": ".py",
   "mimetype": "text/x-python",
   "name": "python",
   "nbconvert_exporter": "python",
   "pygments_lexer": "ipython3",
   "version": "3.10.8"
  }
 },
 "nbformat": 4,
 "nbformat_minor": 5
}
