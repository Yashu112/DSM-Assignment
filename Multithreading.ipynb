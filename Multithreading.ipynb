{
 "cells": [
  {
   "cell_type": "markdown",
   "id": "fa096a75-4a9a-4da9-a223-14bd322b5786",
   "metadata": {},
   "source": [
    " # Multithreading Assignment"
   ]
  },
  {
   "cell_type": "markdown",
   "id": "7104e984-c34d-428f-97ab-954ad4803fd2",
   "metadata": {},
   "source": []
  },
  {
   "cell_type": "code",
   "execution_count": 2,
   "id": "4c8f2d6c-39cb-4a06-8804-970608ba6b40",
   "metadata": {},
   "outputs": [],
   "source": [
    "#importing module for examples\n",
    "import threading"
   ]
  },
  {
   "cell_type": "markdown",
   "id": "9f221df0-ae59-407b-b6f6-f4420c920170",
   "metadata": {},
   "source": []
  },
  {
   "cell_type": "markdown",
   "id": "ff0ecf65-51ca-440e-88aa-4798a37f2bdb",
   "metadata": {},
   "source": [
    "1. What is multithreading in python? Why is it used? Name the module used to handle threads in python.\n",
    "\n",
    "Ans. Threads are like small units of a program that can be executed individually. Multithreading means executing multiple threads at the same time on the same processor. \n",
    "\n",
    "Multithreading is used to improve the performance of program.\n",
    "\n",
    "The **threading** module is used to handle threads in python. \n",
    "\n",
    "Example-"
   ]
  },
  {
   "cell_type": "code",
   "execution_count": 9,
   "id": "62239cd3-2b30-4621-a1f5-17cc6e675fc9",
   "metadata": {},
   "outputs": [
    {
     "name": "stdout",
     "output_type": "stream",
     "text": [
      " 1 x 1 = 1  Wed Jun 14 03:21:58 2023\n",
      " 1 x 2 = 2  Wed Jun 14 03:21:58 2023\n",
      " 1 x 3 = 3  Wed Jun 14 03:21:58 2023\n",
      " 1 x 4 = 4  Wed Jun 14 03:21:58 2023\n",
      " 1 x 5 = 5  Wed Jun 14 03:21:58 2023\n",
      " 1 x 6 = 6  Wed Jun 14 03:21:58 2023\n",
      " 1 x 7 = 7  Wed Jun 14 03:21:58 2023\n",
      " 1 x 8 = 8  Wed Jun 14 03:21:58 2023\n",
      " 1 x 9 = 9  Wed Jun 14 03:21:58 2023\n",
      " 1 x 10 = 10  Wed Jun 14 03:21:58 2023\n",
      "\n",
      " 2 x 1 = 2  Wed Jun 14 03:21:58 2023\n",
      " 2 x 2 = 4  Wed Jun 14 03:21:58 2023\n",
      " 2 x 3 = 6  Wed Jun 14 03:21:58 2023\n",
      " 2 x 4 = 8  Wed Jun 14 03:21:58 2023\n",
      " 2 x 5 = 10  Wed Jun 14 03:21:58 2023\n",
      " 2 x 6 = 12  Wed Jun 14 03:21:58 2023\n",
      " 2 x 7 = 14  Wed Jun 14 03:21:58 2023\n",
      " 2 x 8 = 16  Wed Jun 14 03:21:58 2023\n",
      " 2 x 9 = 18  Wed Jun 14 03:21:58 2023\n",
      " 2 x 10 = 20  Wed Jun 14 03:21:58 2023\n",
      "\n",
      " 3 x 1 = 3  Wed Jun 14 03:21:58 2023\n",
      " 3 x 2 = 6  Wed Jun 14 03:21:58 2023\n",
      " 3 x 3 = 9  Wed Jun 14 03:21:58 2023\n",
      " 3 x 4 = 12  Wed Jun 14 03:21:58 2023\n",
      " 3 x 5 = 15  Wed Jun 14 03:21:58 2023\n",
      " 3 x 6 = 18  Wed Jun 14 03:21:58 2023\n",
      " 3 x 7 = 21  Wed Jun 14 03:21:58 2023\n",
      " 3 x 8 = 24  Wed Jun 14 03:21:58 2023\n",
      " 3 x 9 = 27  Wed Jun 14 03:21:58 2023\n",
      " 3 x 10 = 30  Wed Jun 14 03:21:58 2023\n",
      "\n",
      " 4 x 1 = 4  Wed Jun 14 03:21:58 2023\n",
      " 4 x 2 = 8  Wed Jun 14 03:21:58 2023\n",
      " 4 x 3 = 12  Wed Jun 14 03:21:58 2023\n",
      " 4 x 4 = 16  Wed Jun 14 03:21:58 2023\n",
      " 4 x 5 = 20  Wed Jun 14 03:21:58 2023\n",
      " 4 x 6 = 24  Wed Jun 14 03:21:58 2023\n",
      " 4 x 7 = 28  Wed Jun 14 03:21:58 2023\n",
      " 4 x 8 = 32  Wed Jun 14 03:21:58 2023\n",
      " 4 x 9 = 36  Wed Jun 14 03:21:58 2023\n",
      " 4 x 10 = 40  Wed Jun 14 03:21:58 2023\n",
      "\n"
     ]
    }
   ],
   "source": [
    "#function to demonstrate multi threading\n",
    "import time\n",
    "def table(n): #this function prints table\n",
    "    for i in range(1,11):\n",
    "        print(f' {n} x {i} = {n*i}  {time.ctime()}')\n",
    "    print()\n",
    "    \n",
    "#creating threads using list comprehension\n",
    "thread_tab = [threading.Thread(target=table, args=(i,)) for i in range(1,5)] \n",
    "\n",
    "for j in thread_tab:\n",
    "    j.start()\n",
    "    \n"
   ]
  },
  {
   "cell_type": "code",
   "execution_count": 11,
   "id": "0ace63d1-8ee8-4d9d-ae7e-0048cc8ccd6d",
   "metadata": {},
   "outputs": [
    {
     "name": "stdout",
     "output_type": "stream",
     "text": [
      " 1 x 1 = 1  Wed Jun 14 03:23:25 2023\n",
      " 2 x 1 = 2  Wed Jun 14 03:23:25 2023\n",
      " 3 x 1 = 3  Wed Jun 14 03:23:25 2023\n",
      " 4 x 1 = 4  Wed Jun 14 03:23:25 2023\n",
      " 1 x 2 = 2  Wed Jun 14 03:23:26 2023\n",
      " 2 x 2 = 4  Wed Jun 14 03:23:26 2023\n",
      " 3 x 2 = 6  Wed Jun 14 03:23:26 2023\n",
      " 4 x 2 = 8  Wed Jun 14 03:23:26 2023\n",
      " 1 x 3 = 3  Wed Jun 14 03:23:27 2023\n",
      " 2 x 3 = 6  Wed Jun 14 03:23:27 2023\n",
      " 3 x 3 = 9  Wed Jun 14 03:23:27 2023\n",
      " 4 x 3 = 12  Wed Jun 14 03:23:27 2023\n",
      " 3 x 4 = 12  Wed Jun 14 03:23:28 2023\n",
      " 1 x 4 = 4  Wed Jun 14 03:23:28 2023\n",
      " 2 x 4 = 8  Wed Jun 14 03:23:28 2023\n",
      " 4 x 4 = 16  Wed Jun 14 03:23:28 2023\n",
      " 1 x 5 = 5  Wed Jun 14 03:23:29 2023 3 x 5 = 15  Wed Jun 14 03:23:29 2023\n",
      "\n",
      " 2 x 5 = 10  Wed Jun 14 03:23:29 2023\n",
      " 4 x 5 = 20  Wed Jun 14 03:23:29 2023\n",
      " 3 x 6 = 18  Wed Jun 14 03:23:30 2023 1 x 6 = 6  Wed Jun 14 03:23:30 2023\n",
      " 2 x 6 = 12  Wed Jun 14 03:23:30 2023\n",
      "\n",
      " 4 x 6 = 24  Wed Jun 14 03:23:30 2023\n",
      " 1 x 7 = 7  Wed Jun 14 03:23:31 2023 2 x 7 = 14  Wed Jun 14 03:23:31 2023\n",
      " 3 x 7 = 21  Wed Jun 14 03:23:31 2023\n",
      "\n",
      " 4 x 7 = 28  Wed Jun 14 03:23:31 2023\n",
      " 2 x 8 = 16  Wed Jun 14 03:23:32 2023\n",
      " 3 x 8 = 24  Wed Jun 14 03:23:32 2023\n",
      " 1 x 8 = 8  Wed Jun 14 03:23:32 2023\n",
      " 4 x 8 = 32  Wed Jun 14 03:23:32 2023\n",
      " 2 x 9 = 18  Wed Jun 14 03:23:33 2023\n",
      " 3 x 9 = 27  Wed Jun 14 03:23:33 2023\n",
      " 1 x 9 = 9  Wed Jun 14 03:23:33 2023\n",
      " 4 x 9 = 36  Wed Jun 14 03:23:33 2023\n",
      " 2 x 10 = 20  Wed Jun 14 03:23:34 2023\n",
      " 1 x 10 = 10  Wed Jun 14 03:23:34 2023\n",
      " 4 x 10 = 40  Wed Jun 14 03:23:34 2023\n",
      " 3 x 10 = 30  Wed Jun 14 03:23:34 2023\n",
      "\n",
      "\n",
      "\n",
      "\n"
     ]
    }
   ],
   "source": [
    "#if we use sleep, we see multiple threads being executed at same time\n",
    "\n",
    "def table(n): #this function prints table\n",
    "    for i in range(1,11):\n",
    "        print(f' {n} x {i} = {n*i}  {time.ctime()}')\n",
    "        time.sleep(1) \n",
    "    print()\n",
    "    \n",
    "#creating threads using list comprehension\n",
    "thread_tab = [threading.Thread(target=table, args=(i,)) for i in range(1,5)] \n",
    "\n",
    "for j in thread_tab:\n",
    "    j.start()\n",
    "     "
   ]
  },
  {
   "cell_type": "markdown",
   "id": "ae32a801-918d-4407-905d-72ffcf0e9749",
   "metadata": {},
   "source": []
  },
  {
   "cell_type": "markdown",
   "id": "d575c98d-c47f-4dc5-b064-e9d0533ef982",
   "metadata": {},
   "source": [
    "2. Why threading module used? Write the use of the following functions\n",
    " \n",
    "a. activeCount()\n",
    "\n",
    "b. currentThread()\n",
    "\n",
    "c. enumerate()\n",
    "\n",
    "Ans. The threading module is used to handle threads in python. It contains all the required classes and methods which are required for any threading related tasks. It is used for multithreading purposes. For example, **start()** method is used to start a thread. \n",
    "\n",
    " \n",
    "a. activeCount() - it returns the total number of threads which are currently alive. It returns the number of itmes in list given by enumerate().\n",
    "\n",
    "b. currentThread() - it returns the name of thread which is currently active\n",
    "\n",
    "c. enumerate() - it returns a list of all the threads\n",
    "\n",
    "Examples are provided below-"
   ]
  },
  {
   "cell_type": "code",
   "execution_count": 13,
   "id": "347519aa-6e72-49fd-8eb9-ae7282b4f0e7",
   "metadata": {},
   "outputs": [
    {
     "data": {
      "text/plain": [
       "8"
      ]
     },
     "execution_count": 13,
     "metadata": {},
     "output_type": "execute_result"
    }
   ],
   "source": [
    "#activeCount\n",
    "threading.active_count()"
   ]
  },
  {
   "cell_type": "code",
   "execution_count": 14,
   "id": "53c47b2f-d153-4fcb-98c1-8b4d9825b6dd",
   "metadata": {},
   "outputs": [
    {
     "data": {
      "text/plain": [
       "<_MainThread(MainThread, started 139808948111168)>"
      ]
     },
     "execution_count": 14,
     "metadata": {},
     "output_type": "execute_result"
    }
   ],
   "source": [
    "#currentThread()\n",
    "\n",
    "threading.current_thread()"
   ]
  },
  {
   "cell_type": "code",
   "execution_count": 15,
   "id": "ebaf949f-b9ce-45b0-8c36-4d7a2009d48c",
   "metadata": {},
   "outputs": [
    {
     "data": {
      "text/plain": [
       "[<_MainThread(MainThread, started 139808948111168)>,\n",
       " <Thread(IOPub, started daemon 139808877581888)>,\n",
       " <Heartbeat(Heartbeat, started daemon 139808869189184)>,\n",
       " <Thread(Thread-3 (_watch_pipe_fd), started daemon 139808634566208)>,\n",
       " <Thread(Thread-4 (_watch_pipe_fd), started daemon 139808626173504)>,\n",
       " <ControlThread(Control, started daemon 139808617780800)>,\n",
       " <HistorySavingThread(IPythonHistorySavingThread, started 139808609388096)>,\n",
       " <ParentPollerUnix(Thread-2, started daemon 139808600995392)>]"
      ]
     },
     "execution_count": 15,
     "metadata": {},
     "output_type": "execute_result"
    }
   ],
   "source": [
    "#enumerate()\n",
    "threading.enumerate()"
   ]
  },
  {
   "cell_type": "markdown",
   "id": "99c5d914-cba9-4509-ac5f-deeb1a496f1d",
   "metadata": {},
   "source": [
    "Detailed example-"
   ]
  },
  {
   "cell_type": "code",
   "execution_count": 16,
   "id": "36c6220b-5be6-4855-b9f1-805027d9677a",
   "metadata": {},
   "outputs": [
    {
     "name": "stdout",
     "output_type": "stream",
     "text": [
      " 1 x 1 = 1  \n",
      "\n",
      "Is thread <Thread(Thread-53 (table_2), started 139808584209984)> alive or not? True\n",
      " 2 x 1 = 2  \n",
      "\n",
      "Is thread <Thread(Thread-54 (table_2), started 139808022193728)> alive or not? True\n",
      " 3 x 1 = 3  \n",
      "\n",
      "Is thread <Thread(Thread-55 (table_2), started 139808030586432)> alive or not? True\n",
      " 4 x 1 = 4  \n",
      "\n",
      "Is thread <Thread(Thread-56 (table_2), started 139808592602688)> alive or not? True\n",
      "Active threads =12\n",
      "Active threads =12\n",
      "\n",
      "Current thread = <Thread(Thread-54 (table_2), started 139808022193728)>\n",
      "\n",
      " 2 x 2 = 4  \n",
      "Active threads =12\n",
      "\n",
      "Current thread = <Thread(Thread-55 (table_2), started 139808030586432)>\n",
      "\n",
      " 3 x 2 = 6  \n",
      "Active threads =12\n",
      "\n",
      "Current thread = <Thread(Thread-56 (table_2), started 139808592602688)>\n",
      "\n",
      " 4 x 2 = 8  \n",
      "Active threads =12\n",
      "\n",
      "Current thread = <Thread(Thread-53 (table_2), started 139808584209984)>\n",
      "\n",
      " 1 x 2 = 2  \n",
      "Active threads =12\n",
      "\n",
      "Current thread = <Thread(Thread-54 (table_2), started 139808022193728)>\n",
      "\n",
      " 2 x 3 = 6  \n",
      "Active threads =12\n",
      "\n",
      "Current thread = <Thread(Thread-55 (table_2), started 139808030586432)>\n",
      "\n",
      " 3 x 3 = 9  \n",
      "Active threads =12\n",
      "\n",
      "Current thread = <Thread(Thread-53 (table_2), started 139808584209984)>\n",
      "\n",
      " 1 x 3 = 3  \n",
      "Active threads =12\n",
      "\n",
      "Current thread = <Thread(Thread-56 (table_2), started 139808592602688)>\n",
      "\n",
      " 4 x 3 = 12  \n",
      "Active threads =12\n",
      "Active threads =12\n",
      "\n",
      "Current thread = <Thread(Thread-55 (table_2), started 139808030586432)>\n",
      "\n",
      " 3 x 4 = 12  \n",
      "Active threads =12\n",
      "\n",
      "Current thread = <Thread(Thread-56 (table_2), started 139808592602688)>\n",
      "\n",
      " 4 x 4 = 16  \n",
      "Active threads =12\n",
      "\n",
      "Current thread = <Thread(Thread-53 (table_2), started 139808584209984)>\n",
      "\n",
      " 1 x 4 = 4  \n",
      "\n",
      "Current thread = <Thread(Thread-54 (table_2), started 139808022193728)>\n",
      "\n",
      " 2 x 4 = 8  \n",
      "Active threads =12\n",
      "\n",
      "Current thread = <Thread(Thread-55 (table_2), started 139808030586432)>\n",
      "\n",
      " 3 x 5 = 15  \n",
      "Active threads =12\n",
      "\n",
      "Current thread = <Thread(Thread-54 (table_2), started 139808022193728)>\n",
      "\n",
      " 2 x 5 = 10  \n",
      "Active threads =12\n",
      "\n",
      "Current thread = <Thread(Thread-53 (table_2), started 139808584209984)>\n",
      "\n",
      " 1 x 5 = 5  \n",
      "Active threads =12\n",
      "\n",
      "Current thread = <Thread(Thread-56 (table_2), started 139808592602688)>\n",
      "\n",
      " 4 x 5 = 20  \n",
      "Active threads =12\n",
      "Active threads =12\n",
      "\n",
      "Current thread = <Thread(Thread-54 (table_2), started 139808022193728)>\n",
      "\n",
      " 2 x 6 = 12  \n",
      "Active threads =12\n",
      "\n",
      "Current thread = <Thread(Thread-53 (table_2), started 139808584209984)>\n",
      "\n",
      " 1 x 6 = 6  \n",
      "Active threads =12\n",
      "\n",
      "Current thread = <Thread(Thread-56 (table_2), started 139808592602688)>\n",
      "\n",
      " 4 x 6 = 24  \n",
      "\n",
      "Current thread = <Thread(Thread-55 (table_2), started 139808030586432)>\n",
      "\n",
      " 3 x 6 = 18  \n",
      "Active threads =12\n",
      "Active threads =12\n",
      "\n",
      "Current thread = <Thread(Thread-54 (table_2), started 139808022193728)>\n",
      "\n",
      " 2 x 7 = 14  \n",
      "\n",
      "Current thread = <Thread(Thread-53 (table_2), started 139808584209984)>\n",
      "\n",
      " 1 x 7 = 7  \n",
      "Active threads =12\n",
      "\n",
      "Current thread = <Thread(Thread-55 (table_2), started 139808030586432)>\n",
      "\n",
      " 3 x 7 = 21  \n",
      "Active threads =12\n",
      "\n",
      "Current thread = <Thread(Thread-56 (table_2), started 139808592602688)>\n",
      "\n",
      " 4 x 7 = 28  \n",
      "Active threads =12\n",
      "Active threads =12\n",
      "\n",
      "Current thread = <Thread(Thread-53 (table_2), started 139808584209984)>\n",
      "\n",
      " 1 x 8 = 8  \n",
      "\n",
      "Current thread = <Thread(Thread-54 (table_2), started 139808022193728)>\n",
      "\n",
      " 2 x 8 = 16  \n",
      "Active threads =12\n",
      "\n",
      "Current thread = <Thread(Thread-55 (table_2), started 139808030586432)>\n",
      "\n",
      " 3 x 8 = 24  \n",
      "Active threads =12\n",
      "\n",
      "Current thread = <Thread(Thread-56 (table_2), started 139808592602688)>\n",
      "\n",
      " 4 x 8 = 32  \n",
      "Active threads =12\n",
      "\n",
      "Current thread = <Thread(Thread-56 (table_2), started 139808592602688)>\n",
      "\n",
      " 4 x 9 = 36  \n",
      "Active threads =12\n",
      "\n",
      "Current thread = <Thread(Thread-54 (table_2), started 139808022193728)>\n",
      "\n",
      " 2 x 9 = 18  \n",
      "Active threads =12\n",
      "\n",
      "Current thread = <Thread(Thread-53 (table_2), started 139808584209984)>\n",
      "\n",
      " 1 x 9 = 9  \n",
      "Active threads =12\n",
      "\n",
      "Current thread = <Thread(Thread-55 (table_2), started 139808030586432)>\n",
      "\n",
      " 3 x 9 = 27  \n",
      "Active threads =12\n",
      "\n",
      "Current thread = <Thread(Thread-56 (table_2), started 139808592602688)>\n",
      "\n",
      " 4 x 10 = 40  \n",
      "Active threads =12\n",
      "\n",
      "Current thread = <Thread(Thread-53 (table_2), started 139808584209984)>\n",
      "\n",
      " 1 x 10 = 10  \n",
      "Active threads =12\n",
      "\n",
      "Current thread = <Thread(Thread-54 (table_2), started 139808022193728)>\n",
      "\n",
      " 2 x 10 = 20  \n",
      "Active threads =12\n",
      "\n",
      "Current thread = <Thread(Thread-55 (table_2), started 139808030586432)>\n",
      "\n",
      " 3 x 10 = 30  \n",
      "Active threads =12\n",
      "\n",
      "Current thread = <Thread(Thread-56 (table_2), started 139808592602688)>\n",
      "\n",
      "Active threads =11\n",
      "\n",
      "Current thread = <Thread(Thread-53 (table_2), started 139808584209984)>\n",
      "\n",
      "Active threads =10\n",
      "\n",
      "Current thread = <Thread(Thread-54 (table_2), started 139808022193728)>\n",
      "\n",
      "Active threads =9\n",
      "\n",
      "Current thread = <Thread(Thread-55 (table_2), started 139808030586432)>\n",
      "\n"
     ]
    }
   ],
   "source": [
    "#function to demonstrate threading\n",
    "def table_2(n):\n",
    "    for i in range(1,11):\n",
    "        print(f' {n} x {i} = {n*i}  ')\n",
    "        time.sleep(1)\n",
    "        print(f'Active threads ={threading.active_count()}\\n')\n",
    "        print(f'Current thread = {threading.current_thread()}\\n')\n",
    "        \n",
    "    \n",
    "#creating threads using list comprehension\n",
    "thread_t2 = [threading.Thread(target=table_2, args=(i,)) for i in range(1,5)] \n",
    "\n",
    "for j in thread_t2:\n",
    "    j.start()\n",
    "    print()\n",
    "    print(f'Is thread {j} alive or not? {j.is_alive()}')\n",
    "\n",
    "print(f'Active threads ={threading.active_count()}') "
   ]
  },
  {
   "cell_type": "code",
   "execution_count": 17,
   "id": "40cb4298-5a08-49be-a521-ee7bde1047d9",
   "metadata": {},
   "outputs": [
    {
     "name": "stdout",
     "output_type": "stream",
     "text": [
      "Is thread <Thread(Thread-53 (table_2), stopped 139808584209984)> alive or not? False\n",
      "Is thread <Thread(Thread-54 (table_2), stopped 139808022193728)> alive or not? False\n",
      "Is thread <Thread(Thread-55 (table_2), stopped 139808030586432)> alive or not? False\n",
      "Is thread <Thread(Thread-56 (table_2), stopped 139808592602688)> alive or not? False\n",
      "\n",
      "Active threads =8\n"
     ]
    },
    {
     "data": {
      "text/plain": [
       "[<_MainThread(MainThread, started 139808948111168)>,\n",
       " <Thread(IOPub, started daemon 139808877581888)>,\n",
       " <Heartbeat(Heartbeat, started daemon 139808869189184)>,\n",
       " <Thread(Thread-3 (_watch_pipe_fd), started daemon 139808634566208)>,\n",
       " <Thread(Thread-4 (_watch_pipe_fd), started daemon 139808626173504)>,\n",
       " <ControlThread(Control, started daemon 139808617780800)>,\n",
       " <HistorySavingThread(IPythonHistorySavingThread, started 139808609388096)>,\n",
       " <ParentPollerUnix(Thread-2, started daemon 139808600995392)>]"
      ]
     },
     "execution_count": 17,
     "metadata": {},
     "output_type": "execute_result"
    }
   ],
   "source": [
    "for j in thread_t2:\n",
    "    print(f'Is thread {j} alive or not? {j.is_alive()}')\n",
    "print()\n",
    "print(f'Active threads ={threading.active_count()}') \n",
    "threading.enumerate()"
   ]
  },
  {
   "cell_type": "markdown",
   "id": "7a85ed68-ac8a-4753-b553-ee97109a8e2b",
   "metadata": {},
   "source": []
  },
  {
   "cell_type": "markdown",
   "id": "60151989-c37b-49c1-a4ed-79dc21702066",
   "metadata": {},
   "source": [
    "3. Explain the following functions\n",
    "\n",
    "a. run() - it is used by the start method at the backend to run a thread\n",
    "\n",
    "b. start() - It is used to start a thread. A thread can only be started once.\n",
    "\n",
    "c. join() - It is used to pause the main program so that it waits for the active thread to finish executing.\n",
    "\n",
    "d. isAlive() - it is used to check if a thread is still executing or not\n",
    "\n",
    "Example of code demonstrating use of these functions is as follows"
   ]
  },
  {
   "cell_type": "code",
   "execution_count": 22,
   "id": "38ce10bb-f628-4bd2-a905-2cdd3f23b8f6",
   "metadata": {},
   "outputs": [
    {
     "name": "stdout",
     "output_type": "stream",
     "text": [
      "<Thread(Thread-69 (fivex), initial)> is alive or not ? False\n",
      "<Thread(Thread-70 (fivex), initial)> is alive or not ? False\n",
      "<Thread(Thread-71 (fivex), initial)> is alive or not ? False\n",
      "<Thread(Thread-72 (fivex), initial)> is alive or not ? False\n",
      "<Thread(Thread-73 (fivex), initial)> is alive or not ? False\n",
      "<Thread(Thread-74 (fivex), initial)> is alive or not ? False\n",
      "\n",
      "0 x 5 = 0\n",
      "<Thread(Thread-69 (fivex), started 139808030586432)> is alive or not ? True\n",
      "1 x 5 = 5\n",
      "<Thread(Thread-70 (fivex), started 139808030586432)> is alive or not ? True\n",
      "2 x 5 = 10<Thread(Thread-71 (fivex), started 139808030586432)> is alive or not ? True\n",
      "\n",
      "3 x 5 = 15\n",
      "<Thread(Thread-72 (fivex), started 139808030586432)> is alive or not ? True\n",
      "4 x 5 = 20\n",
      "<Thread(Thread-73 (fivex), started 139808030586432)> is alive or not ? True\n",
      "5 x 5 = 25\n",
      "<Thread(Thread-74 (fivex), started 139808030586432)> is alive or not ? True\n",
      "\n",
      "<Thread(Thread-69 (fivex), stopped 139808030586432)> is alive or not ? False\n",
      "<Thread(Thread-70 (fivex), stopped 139808030586432)> is alive or not ? False\n",
      "<Thread(Thread-71 (fivex), stopped 139808030586432)> is alive or not ? False\n",
      "<Thread(Thread-72 (fivex), stopped 139808030586432)> is alive or not ? False\n",
      "<Thread(Thread-73 (fivex), stopped 139808030586432)> is alive or not ? False\n",
      "<Thread(Thread-74 (fivex), stopped 139808030586432)> is alive or not ? False\n",
      "\n",
      "All threads finished!\n"
     ]
    }
   ],
   "source": [
    "#function to demonstrate threading\n",
    "def fivex(n):\n",
    "    print(f'{n} x 5 = {n*5}')\n",
    "    time.sleep(1)\n",
    "    \n",
    "#creating threads using list comprehension\n",
    "thread_5 = [threading.Thread(target=fivex, args=(i,)) for i in range(6)] \n",
    "\n",
    "#checking if thread is alive\n",
    "\n",
    "for t in thread_5:\n",
    "    print(f'{t} is alive or not ? {t.is_alive()}') #use of is_alive()\n",
    "print()\n",
    "\n",
    "#starting the threads\n",
    "for t in thread_5:\n",
    "    t.start()  #use of start()\n",
    "    print(f'{t} is alive or not ? {t.is_alive()}')\n",
    "    t.join()   #use of join()\n",
    "print()\n",
    "    \n",
    "#checking if thread is alive\n",
    "for t in thread_5:\n",
    "    print(f'{t} is alive or not ? {t.is_alive()}')\n",
    "    \n",
    "    \n",
    "print('\\nAll threads finished!')"
   ]
  },
  {
   "cell_type": "markdown",
   "id": "c239822b-c363-48a7-85fb-672c1e55be96",
   "metadata": {},
   "source": []
  },
  {
   "cell_type": "markdown",
   "id": "6f40f5ec-0983-4ead-8547-dc1dc4793d2e",
   "metadata": {},
   "source": [
    "4. Write a python program to create two threads. Thread one must print the list of squares and thread\n",
    "two must print the list of cubes"
   ]
  },
  {
   "cell_type": "code",
   "execution_count": 5,
   "id": "42b10a13-bebf-4e5f-99a9-60c7ff8d1649",
   "metadata": {},
   "outputs": [
    {
     "name": "stdout",
     "output_type": "stream",
     "text": [
      "Square of 0 is 0\n",
      "Square of 1 is 1\n",
      "Square of 2 is 4\n",
      "Square of 3 is 9\n",
      "Square of 4 is 16\n",
      "Square of 5 is 25\n",
      "Square of 6 is 36\n",
      "Square of 7 is 49\n",
      "Square of 8 is 64\n",
      "Square of 9 is 81\n",
      "Square of 10 is 100\n"
     ]
    }
   ],
   "source": [
    "#Solution-4\n",
    "#list of squares\n",
    "def square(i):\n",
    "    print(f'Square of {i} is {i**2}')\n",
    "    \n",
    "thread_1 = [threading.Thread(target=square, args=(i,)) for i in range(11) ]\n",
    "\n",
    "for j in thread_1:\n",
    "    j.start()"
   ]
  },
  {
   "cell_type": "code",
   "execution_count": 8,
   "id": "fa9aaad8-334e-411d-8ea4-efdab5d7e9a8",
   "metadata": {},
   "outputs": [
    {
     "name": "stdout",
     "output_type": "stream",
     "text": [
      "Cube of 0 is 0\n",
      "Cube of 1 is 1\n",
      "Cube of 2 is 8\n",
      "Cube of 3 is 27\n",
      "Cube of 4 is 64\n",
      "Cube of 5 is 125\n",
      "Cube of 6 is 216\n",
      "Cube of 7 is 343\n",
      "Cube of 8 is 512\n",
      "Cube of 9 is 729\n",
      "Cube of 10 is 1000\n"
     ]
    }
   ],
   "source": [
    "#list of cubes\n",
    "def square(i):\n",
    "    print(f'Cube of {i} is {i**3}')\n",
    "    \n",
    "thread_2 = [threading.Thread(target=square, args=(i,)) for i in range(11) ]\n",
    "\n",
    "for j in thread_2:\n",
    "    j.start()"
   ]
  },
  {
   "cell_type": "markdown",
   "id": "3208dfa9-6680-4204-af19-090c5cf54e12",
   "metadata": {},
   "source": []
  },
  {
   "cell_type": "markdown",
   "id": "7cf237ed-b90c-4d2a-a0da-6d048d740724",
   "metadata": {},
   "source": [
    "5. State advantages and disadvantages of multithreading\n",
    "\n",
    "Ans. Advantages - \n",
    "\n",
    "1.Multithreading is dividing a single process into multiple threads which can be executed concurrently. \n",
    "\n",
    "2.It can help in better utilization of our resources such as CPU. \n",
    "\n",
    "3.For example, if some resources are idle, another thread can make use of it. \n",
    "\n",
    "4.It also helps in reducing the execution time. \n",
    "\n",
    "5.It helps in improving the performance of program. \n",
    "\n",
    "Disadvantages - \n",
    "\n",
    "1.If threads are not synchronized properly, it can lead to bugs. \n",
    "\n",
    "2.Multithreading can also lead to Race conditions which is explained with example in next question. \n",
    "\n",
    "3.Moreover, multithreading can also lead to a Deadlock condition which may lead to freezing of program.\n",
    "\n",
    "4.Also, debugging and testing becomes complex as multithreading makes code complex"
   ]
  },
  {
   "cell_type": "markdown",
   "id": "94a84a6d-496f-4d1d-b1bc-192f92d74ee4",
   "metadata": {},
   "source": []
  },
  {
   "cell_type": "markdown",
   "id": "dc1be658-4d74-4736-b63b-a0ef79c9872d",
   "metadata": {},
   "source": [
    "6. Explain deadlocks and race conditions.\n",
    "\n",
    "Ans. Deadlocks are like freezing conditions which occur in situations where a shared resource is acquired and not released. And a thread waits for a condition which never occurs, this results in freezing of program.\n",
    "\n",
    "For example, in the example of deadlock provided below, when the thread t1 acquires a lock and doesn't realease it, this causes in freezing of program and thread t2 can never start. This is deadlock condition.\n",
    "\n",
    "Race condition- a race condition occurs when two or more threads try to access and manipulate the same global variable at the same time, this results in an uncertainity in the output. This can lead to bugs in a program.\n",
    "\n",
    "For example in code below, incrementing a by 100000  using two threads should print 200000 as final value, but value of a is different after each iteration, this occurs due to race condition. As all threads \n"
   ]
  },
  {
   "cell_type": "markdown",
   "id": "f6bd5b95-c9f8-407a-88b1-a2aaa138dd06",
   "metadata": {},
   "source": [
    "### Examples of Deadlock"
   ]
  },
  {
   "cell_type": "code",
   "execution_count": 32,
   "id": "28677611-8b11-4f59-9f16-43fb4cdf3400",
   "metadata": {},
   "outputs": [
    {
     "name": "stdout",
     "output_type": "stream",
     "text": [
      "Thread t1 is starting\n",
      "Value of y after test1 = 1\n",
      "Thread t1 finished\n",
      "\n",
      "Thread t2 is starting\n",
      "Value of y after test2 = 6\n",
      "Thread t2 finished\n"
     ]
    }
   ],
   "source": [
    "#code without deadlock condition\n",
    "y=0\n",
    "global y\n",
    "lock_1 = threading.Lock()\n",
    "def test1():\n",
    "    global y\n",
    "    y=y+1\n",
    "    print(f'Value of y after test1 = {y}')\n",
    "    \n",
    "def test2():\n",
    "    global y\n",
    "    y=y+5\n",
    "    print(f'Value of y after test2 = {y}')\n",
    "    \n",
    "t1 = threading.Thread(target=test1)\n",
    "t2 = threading.Thread(target=test2)\n",
    "\n",
    "lock_1.acquire()\n",
    "print('Thread t1 is starting')\n",
    "t1.start()\n",
    "t1.join()\n",
    "print('Thread t1 finished')\n",
    "lock_1.release()\n",
    "\n",
    "print()\n",
    "\n",
    "lock_1.acquire()\n",
    "print('Thread t2 is starting')\n",
    "t2.start()\n",
    "t2.join()\n",
    "print('Thread t2 finished')\n",
    "lock_1.release()"
   ]
  },
  {
   "cell_type": "markdown",
   "id": "7ed554e2-ec71-4f88-939d-aac103d723b7",
   "metadata": {},
   "source": []
  },
  {
   "cell_type": "code",
   "execution_count": null,
   "id": "55dfe233-eeb0-409c-8f25-1edd2c9c0caf",
   "metadata": {},
   "outputs": [
    {
     "name": "stdout",
     "output_type": "stream",
     "text": [
      "Thread t1 is starting\n",
      "Value of y after test1 = 1\n",
      "Thread t1 finished\n",
      "\n"
     ]
    }
   ],
   "source": [
    "#code without deadlock condition\n",
    "y=0\n",
    "global y\n",
    "lock_2 = threading.Lock()\n",
    "def test1():\n",
    "    global y\n",
    "    y = y + 1\n",
    "    print(f'Value of y after test1 = {y}')\n",
    "    \n",
    "def test2():\n",
    "    global y\n",
    "    y = y + 5\n",
    "    print(f'Value of y after test2 = {y}')\n",
    "    \n",
    "t1 = threading.Thread(target=test1)\n",
    "t2 = threading.Thread(target=test2)\n",
    "\n",
    "lock_2.acquire()\n",
    "print('Thread t1 is starting')\n",
    "t1.start()\n",
    "t1.join()\n",
    "print('Thread t1 finished')\n",
    "\n",
    "print()\n",
    "\n",
    "#program never reaches here as the lock is not released\n",
    "#so test2 is not executed\n",
    "lock_2.acquire()\n",
    "print('Thread t2 is starting')\n",
    "t2.start()\n",
    "t2.join()\n",
    "print('Thread t2 finished')"
   ]
  },
  {
   "cell_type": "markdown",
   "id": "ec3538b5-0fe7-430a-af17-728606512e43",
   "metadata": {},
   "source": [
    "### Example of Race condition"
   ]
  },
  {
   "cell_type": "code",
   "execution_count": 11,
   "id": "77ab8d6b-f34b-41d2-b4e4-ab5fad955bb5",
   "metadata": {},
   "outputs": [
    {
     "name": "stdout",
     "output_type": "stream",
     "text": [
      "Iteration 0: x = 124313\n",
      "Iteration 1: x = 193084\n",
      "Iteration 2: x = 207011\n",
      "Iteration 3: x = 189453\n",
      "Iteration 4: x = 257684\n",
      "Iteration 5: x = 117790\n",
      "Iteration 6: x = 231060\n",
      "Iteration 7: x = 91871\n",
      "Iteration 8: x = 148332\n",
      "Iteration 9: x = 401021\n"
     ]
    }
   ],
   "source": [
    "#Example of Race condition\n",
    "x=0\n",
    "def inc():\n",
    "    global x\n",
    "    x=x+1\n",
    "    \n",
    "def thread_task(): \n",
    "    for i in range(100000):\n",
    "        inc()\n",
    "        \n",
    "def main():\n",
    "    global x\n",
    "    x=0\n",
    "    threads=[threading.Thread(target=thread_task) for i in range(2)] #this creates two threads\n",
    "    \n",
    "    for t in threads:\n",
    "        t.start()\n",
    "        \n",
    "if __name__ == \"__main__\":\n",
    "    for i in range(10):\n",
    "        main()\n",
    "        print(\"Iteration {0}: x = {1}\".format(i,x))"
   ]
  },
  {
   "cell_type": "markdown",
   "id": "41244c22-57d5-4e23-be5f-9559a2f36cf2",
   "metadata": {},
   "source": [
    "In the code above, two threads try to manipulate the same variable at the same time which ressults into race condition and output is unpredictible and different in each iteration. Condition is solved below"
   ]
  },
  {
   "cell_type": "code",
   "execution_count": 2,
   "id": "80211a6b-71f3-412c-a672-57e9860b9dcc",
   "metadata": {},
   "outputs": [
    {
     "name": "stdout",
     "output_type": "stream",
     "text": [
      "Iteration 0: x = 200000\n",
      "Iteration 1: x = 200000\n",
      "Iteration 2: x = 200000\n",
      "Iteration 3: x = 200000\n",
      "Iteration 4: x = 200000\n",
      "Iteration 5: x = 200000\n",
      "Iteration 6: x = 200000\n",
      "Iteration 7: x = 200000\n",
      "Iteration 8: x = 200000\n",
      "Iteration 9: x = 200000\n"
     ]
    }
   ],
   "source": [
    "#Resolved race condition\n",
    "import threading\n",
    "x=0\n",
    "def inc():\n",
    "    global x\n",
    "    x=x+1\n",
    "    \n",
    "def thread_task(): \n",
    "    for i in range(100000):\n",
    "        inc()\n",
    "        \n",
    "def main():\n",
    "    global x\n",
    "    x=0\n",
    "    threads=[threading.Thread(target=thread_task) for i in range(2)] #this creates two threads\n",
    "    \n",
    "    for t in threads:\n",
    "        t.start()\n",
    "        t.join() #join() makes the program to wait until one thread finishes\n",
    "        \n",
    "if __name__ == \"__main__\":\n",
    "    for i in range(10):\n",
    "        main()\n",
    "        print(\"Iteration {0}: x = {1}\".format(i,x))"
   ]
  },
  {
   "cell_type": "code",
   "execution_count": null,
   "id": "0b1465be-efa9-4095-84f2-53d2d978bdf7",
   "metadata": {},
   "outputs": [],
   "source": []
  }
 ],
 "metadata": {
  "kernelspec": {
   "display_name": "Python 3 (ipykernel)",
   "language": "python",
   "name": "python3"
  },
  "language_info": {
   "codemirror_mode": {
    "name": "ipython",
    "version": 3
   },
   "file_extension": ".py",
   "mimetype": "text/x-python",
   "name": "python",
   "nbconvert_exporter": "python",
   "pygments_lexer": "ipython3",
   "version": "3.10.8"
  }
 },
 "nbformat": 4,
 "nbformat_minor": 5
}
