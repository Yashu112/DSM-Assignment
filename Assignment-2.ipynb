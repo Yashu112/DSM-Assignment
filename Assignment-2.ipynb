{
 "cells": [
  {
   "cell_type": "markdown",
   "id": "b18909ed-1275-4cc6-aa3f-d8f9c3679a1f",
   "metadata": {},
   "source": [
    "Q1. How do you comment code in Python? What are the different types of comments?\n",
    "\n",
    "Ans.Single line comments can be made in python using symbol '#' and multi-line using triple quote, \" \" \".\n",
    "\n",
    "Examples are -"
   ]
  },
  {
   "cell_type": "code",
   "execution_count": 1,
   "id": "37e0e8bc-7901-402d-bb22-333d7f670adc",
   "metadata": {},
   "outputs": [],
   "source": [
    "#This is a single line comment"
   ]
  },
  {
   "cell_type": "code",
   "execution_count": 3,
   "id": "0ccea587-7ef3-4db4-ae29-a81d02caf300",
   "metadata": {},
   "outputs": [],
   "source": [
    "# Commenting \n",
    "# multiple \n",
    "# lines\n",
    "# using #\n"
   ]
  },
  {
   "cell_type": "code",
   "execution_count": 4,
   "id": "2a45bf5d-92dd-4686-8e70-bf1781437ed6",
   "metadata": {},
   "outputs": [
    {
     "data": {
      "text/plain": [
       "' Commenting \\nmultiple \\nlines\\nusing double quotes '"
      ]
     },
     "execution_count": 4,
     "metadata": {},
     "output_type": "execute_result"
    }
   ],
   "source": [
    "\"\"\" Commenting \n",
    "multiple \n",
    "lines\n",
    "using double quotes \"\"\""
   ]
  },
  {
   "cell_type": "markdown",
   "id": "dd6a04e3-7693-4c65-89e9-80a87bdfde04",
   "metadata": {},
   "source": [
    "Q2. What are variables in Python? How do you declare and assign values to variables?\n",
    "\n",
    "Ans. Variables are a type of identifiers. They are like names or labels given to a particular memory location to store some data. Values assigned to a variable can vary during the execution of program. Data type of a variable tells what kind of data it stores. Data type can be int, str, bool,etc.\n",
    "\n",
    "In Python, variable declaration is very easy. We just need to type the name of varible and we can use the assignment operator '=' to assign the value. Examples-"
   ]
  },
  {
   "cell_type": "code",
   "execution_count": 32,
   "id": "a65a614b-f806-4228-b1f7-f45dc64e913b",
   "metadata": {},
   "outputs": [
    {
     "name": "stdout",
     "output_type": "stream",
     "text": [
      "12345\n",
      "Hello!\n"
     ]
    }
   ],
   "source": [
    "my_num = 12345\n",
    "my_string = 'Hello!'\n",
    "\n",
    "print(my_num)\n",
    "print(my_string)"
   ]
  },
  {
   "cell_type": "markdown",
   "id": "46a1713e-fcc3-4bf5-8e94-cba48b775472",
   "metadata": {},
   "source": [
    "Q3. How do you convert one data type to another in Python?\n",
    "\n",
    "Ans. One data type can be converted to other by typecasting \n",
    "Examples-"
   ]
  },
  {
   "cell_type": "code",
   "execution_count": 29,
   "id": "09c87db9-c050-4047-9ee0-c0382553a4cc",
   "metadata": {},
   "outputs": [
    {
     "name": "stdout",
     "output_type": "stream",
     "text": [
      "10.823\n",
      "Before typecasting, type of num = <class 'float'>\n"
     ]
    }
   ],
   "source": [
    "#coneverting float type data to int :\n",
    "num = 10.823\n",
    "print(num)\n",
    "print(\"Before typecasting, type of num =\", type(num))\n"
   ]
  },
  {
   "cell_type": "code",
   "execution_count": 30,
   "id": "b640330f-5ce3-40e5-a737-2a0b8e58bd83",
   "metadata": {},
   "outputs": [
    {
     "name": "stdout",
     "output_type": "stream",
     "text": [
      "10\n",
      "After typecasting, type of num = <class 'int'>\n"
     ]
    }
   ],
   "source": [
    "num = int(num)\n",
    "print(num)\n",
    "print(\"After typecasting, type of num =\", type(num))"
   ]
  },
  {
   "cell_type": "markdown",
   "id": "2c1cdd8a-efd4-4fbe-a77b-522eddcc5c47",
   "metadata": {},
   "source": [
    "Q4. How do you write and execute a Python script from the command line?\n",
    "\n",
    "Ans. To write a Python script from command line-\n",
    "\n",
    "1.) Type 'python' and press enter. This opens python interpreter\n",
    "\n",
    "2.) Type the python code\n",
    "\n",
    "To execute a Python script from command line, we need to type the following command -\n",
    "\n",
    "\"python file_path/file_name.py\""
   ]
  },
  {
   "cell_type": "markdown",
   "id": "5d83d099-ece6-4e35-a9eb-450fca0a6b1b",
   "metadata": {},
   "source": [
    "Q5. Given a list my_list = [1, 2, 3, 4, 5], write the code to slice the list and obtain the sub-list [2, 3]."
   ]
  },
  {
   "cell_type": "code",
   "execution_count": 13,
   "id": "f5ca4e8c-a2a2-4d10-a186-6cb47a2a0f5d",
   "metadata": {},
   "outputs": [
    {
     "data": {
      "text/plain": [
       "[2, 3]"
      ]
     },
     "execution_count": 13,
     "metadata": {},
     "output_type": "execute_result"
    }
   ],
   "source": [
    "#Solution 5\n",
    "my_list = [1, 2, 3, 4, 5]\n",
    "my_list[1:3]"
   ]
  },
  {
   "cell_type": "markdown",
   "id": "47722401-566a-408a-87a5-e2ef4d0cd8bf",
   "metadata": {},
   "source": [
    "Q6. What is a complex number in mathematics, and how is it represented in Python?\n",
    "\n",
    "Ans. Complex numbers in mathematics are those which have both imaginary part and real part. It is represented in python using notation --'real' + 'imag'j. Here real represents real part and imag represents imaginary part. Example -"
   ]
  },
  {
   "cell_type": "code",
   "execution_count": 31,
   "id": "a46ae25b-6c30-4ace-864b-136d77cc5f43",
   "metadata": {},
   "outputs": [
    {
     "name": "stdout",
     "output_type": "stream",
     "text": [
      "Real part of z is 1.0\n",
      "Imaginary part of z is 2.0\n",
      "Conjugate part of z is (1-2j)\n"
     ]
    }
   ],
   "source": [
    "#Solution 6\n",
    "\n",
    "z = 1 + 2j\n",
    "\n",
    "print('Real part of z is {}'.format(z.real))\n",
    "print('Imaginary part of z is {}'.format(z.imag))\n",
    "print('Conjugate part of z is {}'.format(z.conjugate()))"
   ]
  },
  {
   "cell_type": "markdown",
   "id": "30244f75-d9cc-42aa-a29e-fe1621e05273",
   "metadata": {},
   "source": [
    "Q7. What is the correct way to declare a variable named age and assign the value 25 to it?\n",
    "\n",
    "Ans. This can simply be done using assignment operator '='"
   ]
  },
  {
   "cell_type": "code",
   "execution_count": 28,
   "id": "1d9cdc1f-e41d-4409-b157-f004c687a635",
   "metadata": {},
   "outputs": [
    {
     "data": {
      "text/plain": [
       "25"
      ]
     },
     "execution_count": 28,
     "metadata": {},
     "output_type": "execute_result"
    }
   ],
   "source": [
    "#Solution 7\n",
    "age=25\n",
    "#printing value\n",
    "age"
   ]
  },
  {
   "cell_type": "markdown",
   "id": "837976cf-8f35-4e21-838b-751ad3c94214",
   "metadata": {},
   "source": [
    "Q8. Declare a variable named price and assign the value 9.99 to it. What data type does this variable \n",
    "belong to?"
   ]
  },
  {
   "cell_type": "code",
   "execution_count": 14,
   "id": "3f667dac-8683-40f5-9164-cc973647879c",
   "metadata": {},
   "outputs": [
    {
     "data": {
      "text/plain": [
       "float"
      ]
     },
     "execution_count": 14,
     "metadata": {},
     "output_type": "execute_result"
    }
   ],
   "source": [
    "#Solution 8\n",
    "price = 9.99\n",
    "#data-type of price is float\n",
    "type(price)"
   ]
  },
  {
   "cell_type": "markdown",
   "id": "fde0a82f-65b0-4c29-aa59-2ab992acd571",
   "metadata": {},
   "source": [
    "Q9. Create a variable named name and assign your full name to it as a string. How would you print the \n",
    "value of this variable?"
   ]
  },
  {
   "cell_type": "code",
   "execution_count": 17,
   "id": "a0dc2db2-ad7f-4c8c-bad5-d6e0001483a3",
   "metadata": {},
   "outputs": [
    {
     "name": "stdout",
     "output_type": "stream",
     "text": [
      "Yash Chawda\n"
     ]
    }
   ],
   "source": [
    "#Solution 9\n",
    "name = 'Yash Chawda'\n",
    "#printing the value of name\n",
    "print(name)"
   ]
  },
  {
   "cell_type": "markdown",
   "id": "2f519b59-505f-43ac-a722-f038e3e7c565",
   "metadata": {},
   "source": [
    "Q10. Given the string \"Hello, World!\", extract the substring \"World\"."
   ]
  },
  {
   "cell_type": "code",
   "execution_count": 24,
   "id": "d352af92-5c85-4d1f-b54b-f5d571b27496",
   "metadata": {},
   "outputs": [
    {
     "data": {
      "text/plain": [
       "'Hello'"
      ]
     },
     "execution_count": 24,
     "metadata": {},
     "output_type": "execute_result"
    }
   ],
   "source": [
    "#Solution 10\n",
    "str=\"Hello, World!\"\n",
    "str[0:5]"
   ]
  },
  {
   "cell_type": "markdown",
   "id": "537f173c-7a5e-4d76-b3b1-f9add883278f",
   "metadata": {},
   "source": [
    "Q11. Create a variable named \"is_student\" and assign it a boolean value indicating whether you are \n",
    "currently a student or not"
   ]
  },
  {
   "cell_type": "code",
   "execution_count": 26,
   "id": "456c8072-9183-473e-9284-c55213bf2a18",
   "metadata": {},
   "outputs": [
    {
     "data": {
      "text/plain": [
       "bool"
      ]
     },
     "execution_count": 26,
     "metadata": {},
     "output_type": "execute_result"
    }
   ],
   "source": [
    "#Solution 11\n",
    "is_student = True\n",
    "#verifying data type\n",
    "type(is_student)"
   ]
  },
  {
   "cell_type": "code",
   "execution_count": null,
   "id": "541447cc-4b24-4f86-bb4a-935729d57df4",
   "metadata": {},
   "outputs": [],
   "source": []
  }
 ],
 "metadata": {
  "kernelspec": {
   "display_name": "Python 3 (ipykernel)",
   "language": "python",
   "name": "python3"
  },
  "language_info": {
   "codemirror_mode": {
    "name": "ipython",
    "version": 3
   },
   "file_extension": ".py",
   "mimetype": "text/x-python",
   "name": "python",
   "nbconvert_exporter": "python",
   "pygments_lexer": "ipython3",
   "version": "3.10.8"
  }
 },
 "nbformat": 4,
 "nbformat_minor": 5
}
