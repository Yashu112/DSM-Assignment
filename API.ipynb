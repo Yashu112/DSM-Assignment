{
 "cells": [
  {
   "cell_type": "markdown",
   "id": "2293d11f-e298-4b49-892d-819fb9e45fa2",
   "metadata": {},
   "source": [
    "# API Assignment"
   ]
  },
  {
   "cell_type": "markdown",
   "id": "6222c528-d8aa-456a-8ccd-2b64008d3dc6",
   "metadata": {},
   "source": []
  },
  {
   "cell_type": "markdown",
   "id": "4c37be1c-b19e-4648-afff-f5e66170f221",
   "metadata": {},
   "source": [
    "Q1. What is an API? Give an example, where an API is used in real life.\n",
    "\n",
    "Ans. API stands for Application Programming Interface. API is a set of rules, protocols, it is a framework designed so that homogenous or heterogenous applications can interconnect and coomunicate with each other. API helps different software applications, written in different languages to communicate with each other and work seamlessly.\n",
    "\n",
    "Example, when we use google or gmail login, we are making use of the Web API designed by google. In online transactions also, we are using API to access account details. Weather apps use APIs to access weather data stored on servers."
   ]
  },
  {
   "cell_type": "markdown",
   "id": "68f0a41f-03b3-4fc3-8dff-d020b1a3dc0e",
   "metadata": {},
   "source": []
  },
  {
   "cell_type": "markdown",
   "id": "d44cfcda-aa4e-4443-8225-7d0666f0131b",
   "metadata": {},
   "source": [
    "Q2. Give advantages and disadvantages of using API.\n",
    "\n",
    "Ans. Advantages-\n",
    "- They help in making code modular. Also APIs help in code reusability.\n",
    "- They help different systems based on different technologies to communicate ith each other, helping in integration\n",
    "- They help in standardization\n",
    "- APIs can also help in rapid development of services based on pre-built APIs\n",
    "- They promote innovation. Developers can build on existing APIs and build better versions or new services\n",
    "\n",
    "Disadvantages-\n",
    "- APIs make the code dependent and if there is issue with API, the program can also face issues\n",
    "- Lack of control\n",
    "- APIs can also introduce security risks\n"
   ]
  },
  {
   "cell_type": "markdown",
   "id": "3765884e-3fe2-457c-90b0-f078df507df7",
   "metadata": {},
   "source": []
  },
  {
   "cell_type": "markdown",
   "id": "aa782274-ce00-45f7-bf83-baae34841707",
   "metadata": {},
   "source": [
    "Q3. What is a Web API? Differentiate between API and Web API.\n",
    "\n",
    "Ans. The set of protocols, the framework which are used for building web applications is called a Web API. In other words, an API use for developing Web Applications is a Web API. Web API make use of HTTP (HyperText Transfer Protocol). Example, REST and SOAP. It enables the us to access the web, the internet and facilitates in the transfer of data over web.\n",
    "\n",
    "API is a general term which refers to all the types of APIs. Web API is a specific term, which refers specifically to those APIs which use HTTP and are used for web applications."
   ]
  },
  {
   "cell_type": "markdown",
   "id": "ba467141-d4b2-4107-bb06-6b7113085bdb",
   "metadata": {},
   "source": []
  },
  {
   "cell_type": "markdown",
   "id": "972f1e98-93f7-46e4-8b24-5a10ecd195e4",
   "metadata": {},
   "source": [
    "Q4. Explain REST and SOAP Architecture. Mention shortcomings of SOAP.\n",
    "\n",
    "Ans. REST stands for Representaional State Transfer. It is a kind of architecture of Web API. It uses HTTP for communication, it uses GET, POST, PUT, DELETE, etc. It is easier to understand and impliment, flexible, scalable, multi-layerd. It is stateless, session data is not stored on server side. It is based on client-server architecture\n",
    "\n",
    "SOAP stands for Simple Object Access Protocol. Unlike REST it is a kind of protocol. It makes use of XML (eXtensible Markup Language) for communication. It is more secure than REST. It is Stateful, information of state can be stored which can be useful when a series of requests is interconnected.\n",
    "\n",
    "Shortcomings of SOAP-\n",
    "- It is a protocol so it has more strict standards than REST\n",
    "- It requires more bandwidth and resources\n",
    "- It lacks flexibility\n",
    "- Debugging is difficult"
   ]
  },
  {
   "cell_type": "markdown",
   "id": "61d92113-0384-4f44-8eca-4c1372090175",
   "metadata": {},
   "source": []
  },
  {
   "cell_type": "markdown",
   "id": "b3dcb076-6fcf-43bf-b82b-287c308be4d3",
   "metadata": {},
   "source": [
    "Q5. Differentiate between REST and SOAP.\n",
    "\n",
    "Ans. REST stands for Representaional State Transfer.\n",
    "- It uses HTTP for communication, it uses GET, POST, PUT, DELETE, etc\n",
    "- It is easier to understand and impliment\n",
    "- It is flexible and scalable\n",
    "- It is multi-layerd, so security layers can be added\n",
    "- It has light-weight transactions\n",
    "- It is stateless, session data is not stored on server side\n",
    "- It supports caching on client side\n",
    "- It is based on client-server architecture\n",
    "\n",
    "SOAP stands for Simple Object Access Protocol. \n",
    "- It makes use of XML (eXtensible Markup Language) for communication\n",
    "- It is more complex to understand\n",
    "- It has heavy-weight transactions\n",
    "- It is more secure than REST. \n",
    "- It is Stateful, information of state can be stored."
   ]
  },
  {
   "cell_type": "markdown",
   "id": "cb861b6f-98e0-4c9a-bc57-f5c5a939854e",
   "metadata": {},
   "source": []
  }
 ],
 "metadata": {
  "kernelspec": {
   "display_name": "Python 3 (ipykernel)",
   "language": "python",
   "name": "python3"
  },
  "language_info": {
   "codemirror_mode": {
    "name": "ipython",
    "version": 3
   },
   "file_extension": ".py",
   "mimetype": "text/x-python",
   "name": "python",
   "nbconvert_exporter": "python",
   "pygments_lexer": "ipython3",
   "version": "3.10.8"
  }
 },
 "nbformat": 4,
 "nbformat_minor": 5
}
