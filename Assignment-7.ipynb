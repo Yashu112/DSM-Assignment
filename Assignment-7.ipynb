{
 "cells": [
  {
   "cell_type": "markdown",
   "id": "d6b181da-52c1-4710-8e2a-1c218eabf43e",
   "metadata": {},
   "source": [
    "# *OOPs Assignment - 2*"
   ]
  },
  {
   "cell_type": "markdown",
   "id": "fb2f79bf-2b0c-43f3-a829-6d263c4344eb",
   "metadata": {},
   "source": []
  },
  {
   "cell_type": "markdown",
   "id": "4742f26f-97a5-4511-b364-42f427dd3629",
   "metadata": {},
   "source": [
    "Q1. What is Abstraction in OOps? Explain with an example.\n",
    "\n",
    "Ans. Abstraction in OOPs refers to hiding the complex implimentation details by defining abstract class. The abstract class can then be used by other classes as a base, as a blueprint. The abstract class defines the general rules that the child classes must follow. "
   ]
  },
  {
   "cell_type": "code",
   "execution_count": 3,
   "id": "f5c73f20-1b87-4d7f-a6de-5d669d40ce62",
   "metadata": {},
   "outputs": [],
   "source": [
    "#Solution-1\n",
    "from functools import reduce\n",
    "import abc\n",
    "\n",
    "class marksheet: #this is our abstract class\n",
    "    \n",
    "    @abc.abstractmethod\n",
    "    def __init__(self,name,*marks):\n",
    "        pass\n",
    "        \n",
    "    @abc.abstractmethod\n",
    "    def total(self):\n",
    "        pass\n",
    "        \n",
    "    @abc.abstractmethod\n",
    "    def avg_marks(self):\n",
    "        pass\n",
    "    \n",
    "#child class using the blue print-\n",
    "class science(marksheet):\n",
    "         \n",
    "    def __init__(self,name,*marks):\n",
    "        self.name = name\n",
    "        self.marks = marks\n",
    "        self.__total = reduce(lambda x,y:(x+y), self.marks)\n",
    "        \n",
    "    def total(self):\n",
    "        print('The total marks of {} are {}'.format(self.name,self.total))\n",
    "    \n",
    "    def avg_marks(self):\n",
    "        average = self.__total/len(self.marks)\n",
    "        print('The average marks of {} are {}'.format(self.name,average))\n",
    "        \n",
    "#another child class using the same basic blue print-    \n",
    "class commerce(marksheet):\n",
    "    \n",
    "    def __init__(self,name,*marks):\n",
    "        self.name = name\n",
    "        self.marks = marks\n",
    "        self.__total = reduce(lambda x,y:(x+y), self.marks) \n",
    "        \n",
    "    def total(self):\n",
    "        print('The total marks of {} are {}'.format(self.name,self.__total))\n",
    "    \n",
    "    def avg_marks(self):\n",
    "        average = self.__total/len(self.marks)\n",
    "        print('The average marks of {} are {}'.format(self.name,average))\n",
    "    \n",
    "    "
   ]
  },
  {
   "cell_type": "code",
   "execution_count": 4,
   "id": "fa75b119-8a23-406c-89b8-1444e122d609",
   "metadata": {},
   "outputs": [
    {
     "name": "stdout",
     "output_type": "stream",
     "text": [
      "The average marks of Rohan are 95.6\n",
      "The total marks of Sohan are 476\n"
     ]
    }
   ],
   "source": [
    "#example-\n",
    "stud_1 = science('Rohan',97,96,95,98,92)\n",
    "stud_1.avg_marks()\n",
    "\n",
    "stud_2 = commerce('Sohan',93,98,94,96,95)\n",
    "stud_2.total()\n"
   ]
  },
  {
   "cell_type": "code",
   "execution_count": null,
   "id": "f81849bd-3410-4817-ace1-64af4f00159d",
   "metadata": {},
   "outputs": [],
   "source": []
  },
  {
   "cell_type": "markdown",
   "id": "2878821b-95e8-4437-bb3b-fe600d63483b",
   "metadata": {},
   "source": [
    "Q2. Differentiate between Abstraction and Encapsulation. Explain with an example.\n",
    "\n",
    "Ans. Encapsulation is about creating private and protected variables and allowing controlled access to class variables. Whereas Abstraction is about providing a generalised basic blueprint which can be used and implimented in different situations and specific implimentations can be provided.\n",
    "\n",
    "\n",
    "For example - "
   ]
  },
  {
   "cell_type": "code",
   "execution_count": 6,
   "id": "565b580f-a3f5-4596-98b5-39760260138e",
   "metadata": {},
   "outputs": [],
   "source": [
    "#creating an abstract class\n",
    "class animal:\n",
    "    \n",
    "    @abc.abstractmethod\n",
    "    def legs(self):\n",
    "        pass\n",
    "    \n",
    "    @abc.abstractmethod\n",
    "    def sound(self):\n",
    "        pass\n",
    "    \n",
    "    @abc.abstractmethod\n",
    "    def tail(self):\n",
    "        pass\n",
    "    \n",
    "    @abc.abstractmethod\n",
    "    def movement(self):\n",
    "        pass"
   ]
  },
  {
   "cell_type": "code",
   "execution_count": 7,
   "id": "aa4425d6-04f7-4218-852e-7e8e21c03834",
   "metadata": {},
   "outputs": [],
   "source": [
    "#sub classes following the blueprint\n",
    "class dogs:\n",
    "    \n",
    "    __name = 'dogs' #this is encapsulated variable which can't be accesed by the user\n",
    "    \n",
    "    def legs(self):\n",
    "        return 4\n",
    "    \n",
    "    def sound(self):\n",
    "        return f'{self.__name} bark'\n",
    "    \n",
    "    def has_tail(self):\n",
    "        return True\n",
    "    \n",
    "    def movement(self):\n",
    "        return f'{self.__name} run and walk'\n",
    "    \n",
    "class birds:\n",
    "    \n",
    "    __name = 'birds' #this is encapsulated variable which can't be accesed by the user\n",
    "    \n",
    "    def legs(self):\n",
    "        return 2\n",
    "    \n",
    "    def sound(self):\n",
    "        return f'{self.__name} sing'\n",
    "    \n",
    "    def has_tail(self):\n",
    "        return True\n",
    "    \n",
    "    def movement(self):\n",
    "        return f'{self.__name} fly'"
   ]
  },
  {
   "cell_type": "code",
   "execution_count": 9,
   "id": "6582967f-299c-4850-92fa-2596d226e836",
   "metadata": {},
   "outputs": [
    {
     "ename": "AttributeError",
     "evalue": "'dogs' object has no attribute '__name'",
     "output_type": "error",
     "traceback": [
      "\u001b[0;31m---------------------------------------------------------------------------\u001b[0m",
      "\u001b[0;31mAttributeError\u001b[0m                            Traceback (most recent call last)",
      "Cell \u001b[0;32mIn[9], line 2\u001b[0m\n\u001b[1;32m      1\u001b[0m dog_1 \u001b[38;5;241m=\u001b[39m dogs()\n\u001b[0;32m----> 2\u001b[0m \u001b[43mdog_1\u001b[49m\u001b[38;5;241;43m.\u001b[39;49m\u001b[43m__name\u001b[49m\n",
      "\u001b[0;31mAttributeError\u001b[0m: 'dogs' object has no attribute '__name'"
     ]
    }
   ],
   "source": [
    "dog_1 = dogs()\n",
    "dog_1.__name #this returns error, user can't directly access the name attribute"
   ]
  },
  {
   "cell_type": "code",
   "execution_count": null,
   "id": "0d6d1698-4feb-4057-9c78-81f7be28daeb",
   "metadata": {},
   "outputs": [],
   "source": []
  },
  {
   "cell_type": "markdown",
   "id": "de46cd48-3571-4257-bb26-cfa9cd9e67a0",
   "metadata": {},
   "source": [
    "Q3. What is abc module in python? Why is it used?\n",
    "\n",
    "Ans. The **abc** module is used for creating abstract classes. **abc** stands for **Abstract Base Classes**. It is a module that contains the various methods required for data abstraction."
   ]
  },
  {
   "cell_type": "code",
   "execution_count": null,
   "id": "d6288231-c2e1-4f4a-b645-83eb7ca90b16",
   "metadata": {},
   "outputs": [],
   "source": []
  },
  {
   "cell_type": "markdown",
   "id": "81dec819-61c3-4e50-9695-db1bf45eeb30",
   "metadata": {},
   "source": [
    "Q4. How can we achieve data abstraction?\n",
    "\n",
    "Ans. We have to first import the **'abc'** module. Using the decorator **@abc.abstractmethod** before definig the methods of class, we can declare that they are abstract methods. In this way we can achieve abstraction in python.\n",
    "\n",
    "Example of creating an abstract class - "
   ]
  },
  {
   "cell_type": "code",
   "execution_count": 2,
   "id": "c123ffb6-869e-4032-b71b-92991d4303ce",
   "metadata": {},
   "outputs": [],
   "source": [
    "#Solution-4\n",
    "\n",
    "import abc\n",
    "\n",
    "class my_abstract:\n",
    "    \n",
    "    @abc.abstractmethod\n",
    "    def method_1(self):\n",
    "        pass\n",
    "    \n",
    "    @abc.abstractmethod\n",
    "    def method_2(self):\n",
    "        pass\n",
    "    \n",
    "    @abc.abstractmethod\n",
    "    def method_3(self):\n",
    "        pass\n",
    "    "
   ]
  },
  {
   "cell_type": "code",
   "execution_count": null,
   "id": "7c927423-c195-4151-b666-0d15a5bba90f",
   "metadata": {},
   "outputs": [],
   "source": []
  },
  {
   "cell_type": "markdown",
   "id": "924c5e48-453a-44be-a746-cf888cbfc82f",
   "metadata": {},
   "source": [
    "Q5. Can we create an instance of an abstract class? Explain your answer.\n",
    "\n",
    "Ans. No we cannot create instance of an abstract class. The abstract class is just used to create a general blueprint which can be inherited and used by other classes."
   ]
  },
  {
   "cell_type": "code",
   "execution_count": null,
   "id": "ced8c396-4178-487e-9cc0-7f1053d969af",
   "metadata": {},
   "outputs": [],
   "source": []
  }
 ],
 "metadata": {
  "kernelspec": {
   "display_name": "Python 3 (ipykernel)",
   "language": "python",
   "name": "python3"
  },
  "language_info": {
   "codemirror_mode": {
    "name": "ipython",
    "version": 3
   },
   "file_extension": ".py",
   "mimetype": "text/x-python",
   "name": "python",
   "nbconvert_exporter": "python",
   "pygments_lexer": "ipython3",
   "version": "3.10.8"
  }
 },
 "nbformat": 4,
 "nbformat_minor": 5
}
