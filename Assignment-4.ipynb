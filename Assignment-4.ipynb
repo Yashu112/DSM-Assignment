{
 "cells": [
  {
   "cell_type": "markdown",
   "id": "46e67e49-c249-4cc8-b288-ee815b6c1972",
   "metadata": {},
   "source": [
    "Q1. Create a python program to sort the given list of tuples based on integer value using a\n",
    "lambda function.\n",
    "[('Sachin Tendulkar', 34357), ('Ricky Ponting', 27483), ('Jack Kallis', 25534), ('Virat Kohli', 24936)]"
   ]
  },
  {
   "cell_type": "code",
   "execution_count": 37,
   "id": "e500e1a7-9a85-4d0f-a300-e321a4680458",
   "metadata": {},
   "outputs": [
    {
     "name": "stdout",
     "output_type": "stream",
     "text": [
      "Sorted list based on integer values is [('Virat Kohli', 24936), ('Jack Kallis', 25534), ('Ricky Ponting', 27483), ('Sachin Tendulkar', 34357)]\n"
     ]
    }
   ],
   "source": [
    "#Solution-1:\n",
    "l_t = [('Sachin Tendulkar', 34357), ('Ricky Ponting', 27483), ('Jack Kallis', 25534), ('Virat Kohli', 24936)]\n",
    "\n",
    "l_t.sort(key = lambda t : t[1])\n",
    "\n",
    "print('Sorted list based on integer values is',l_t)\n"
   ]
  },
  {
   "cell_type": "code",
   "execution_count": null,
   "id": "346ce577-9685-4526-94d0-9ac6d4ea4d48",
   "metadata": {},
   "outputs": [],
   "source": []
  },
  {
   "cell_type": "markdown",
   "id": "fac7a8e6-1d70-4ad2-bdeb-a39ea0c60c69",
   "metadata": {},
   "source": [
    "Q2. Write a Python Program to find the squares of all the numbers in the given list of integers using\n",
    "lambda and map functions.\n",
    "[1, 2, 3, 4, 5, 6, 7, 8, 9, 10]"
   ]
  },
  {
   "cell_type": "code",
   "execution_count": 32,
   "id": "d8000eec-acf7-41c9-b6a5-aab053a70933",
   "metadata": {},
   "outputs": [
    {
     "data": {
      "text/plain": [
       "[1, 4, 9, 16, 25, 36, 49, 64, 81, 100]"
      ]
     },
     "execution_count": 32,
     "metadata": {},
     "output_type": "execute_result"
    }
   ],
   "source": [
    "#Solution-2:\n",
    "num = [1, 2, 3, 4, 5, 6, 7, 8, 9, 10]\n",
    "\n",
    "num_sq = list(map(lambda n : n**2, num))\n",
    "\n",
    "num_sq"
   ]
  },
  {
   "cell_type": "code",
   "execution_count": null,
   "id": "cb13ad42-fa8a-47b6-af42-9dc0ad3c9a9d",
   "metadata": {},
   "outputs": [],
   "source": []
  },
  {
   "cell_type": "markdown",
   "id": "1dca4b32-66d8-4385-970d-e170ddeb2298",
   "metadata": {},
   "source": [
    "Q3. Write a python program to convert the given list of integers into a tuple of strings. Use map and\n",
    "lambda functions\n",
    "Given String: [1, 2, 3, 4, 5, 6, 7, 8, 9, 10]\n",
    "Expected output: ('1', '2', '3', '4', '5', '6', '7', '8', '9', '10')"
   ]
  },
  {
   "cell_type": "code",
   "execution_count": 33,
   "id": "db6e4eff-636a-4ce2-8217-41b5f799ca77",
   "metadata": {},
   "outputs": [
    {
     "data": {
      "text/plain": [
       "('1', '2', '3', '4', '5', '6', '7', '8', '9', '10')"
      ]
     },
     "execution_count": 33,
     "metadata": {},
     "output_type": "execute_result"
    }
   ],
   "source": [
    "#Solution:\n",
    "int_list = [1, 2, 3, 4, 5, 6, 7, 8, 9, 10]\n",
    "\n",
    "int_tuple = tuple(map(lambda t : str(t) , int_list))\n",
    "\n",
    "int_tuple"
   ]
  },
  {
   "cell_type": "code",
   "execution_count": null,
   "id": "02447626-5a27-4e43-8b2e-0c2b15439ea0",
   "metadata": {},
   "outputs": [],
   "source": []
  },
  {
   "cell_type": "markdown",
   "id": "95c3fd29-728e-4ba0-bb66-3315a15f832e",
   "metadata": {},
   "source": [
    "Q4. Write a python program using reduce function to compute the product of a list containing numbers\n",
    "from 1 to 25."
   ]
  },
  {
   "cell_type": "code",
   "execution_count": 34,
   "id": "d05249f7-a598-47d1-8588-f015a377c961",
   "metadata": {},
   "outputs": [
    {
     "name": "stdout",
     "output_type": "stream",
     "text": [
      "Product of a list containing numbers from 1 to 25 is 15511210043330985984000000\n"
     ]
    }
   ],
   "source": [
    "#Solution-4\n",
    "\n",
    "from functools import reduce\n",
    "\n",
    "l_25 = [1,2,3,4,5,6,7,8,9,10,11,12,13,14,15,16,17,18,19,20,21,22,23,24,25]\n",
    "\n",
    "prod = reduce(lambda x,y : x*y, l_25)\n",
    "\n",
    "print('Product of a list containing numbers from 1 to 25 is',prod)\n"
   ]
  },
  {
   "cell_type": "code",
   "execution_count": null,
   "id": "12d4605b-eecc-456a-be3a-6e4891fed16a",
   "metadata": {},
   "outputs": [],
   "source": []
  },
  {
   "cell_type": "markdown",
   "id": "3636d098-6c41-4f70-86d2-1186a5f703d4",
   "metadata": {},
   "source": [
    "Q5. Write a python program to filter the numbers in a given list that are divisible by 2 and 3 using the\n",
    "filter function.\n",
    "[2, 3, 6, 9, 27, 60, 90, 120, 55, 46]"
   ]
  },
  {
   "cell_type": "code",
   "execution_count": 35,
   "id": "095d09b6-6e6c-4685-aad7-76dcf4799ddf",
   "metadata": {},
   "outputs": [
    {
     "name": "stdout",
     "output_type": "stream",
     "text": [
      "The numbers in a given list that are divisible by 2 and 3 are [6, 60, 90, 120]\n"
     ]
    }
   ],
   "source": [
    "#Solution-5:\n",
    "\n",
    "li = [2, 3, 6, 9, 27, 60, 90, 120, 55, 46]\n",
    "\n",
    "sol_li = list(filter(lambda x : x%2==0 and x%3==0 , li))\n",
    "\n",
    "print('The numbers in a given list that are divisible by 2 and 3 are', sol_li)"
   ]
  },
  {
   "cell_type": "code",
   "execution_count": null,
   "id": "eaf34307-a96a-4db8-bb12-df5226179fdf",
   "metadata": {},
   "outputs": [],
   "source": []
  },
  {
   "cell_type": "markdown",
   "id": "2c006d5e-72d2-4a10-b9a3-e5fe8c41c615",
   "metadata": {},
   "source": [
    "Q6. Write a python program to find palindromes in the given list of strings using lambda and filter\n",
    "function.\n",
    "['python', 'php', 'aba', 'radar', 'level']"
   ]
  },
  {
   "cell_type": "code",
   "execution_count": 36,
   "id": "4e4a7ebc-5552-4d4d-b4aa-8edbe5ca015e",
   "metadata": {},
   "outputs": [
    {
     "name": "stdout",
     "output_type": "stream",
     "text": [
      "Palindromes in the given list of strings are ['php', 'aba', 'radar', 'level']\n"
     ]
    }
   ],
   "source": [
    "#Solution-6:\n",
    "\n",
    "s = ['python', 'php', 'aba', 'radar', 'level']\n",
    "\n",
    "sol_s = list(filter(lambda s : s==s[::-1] ,s))\n",
    "\n",
    "print('Palindromes in the given list of strings are', sol_s)"
   ]
  },
  {
   "cell_type": "code",
   "execution_count": null,
   "id": "fa0caf06-668b-4f5b-8782-186a2eef981c",
   "metadata": {},
   "outputs": [],
   "source": []
  }
 ],
 "metadata": {
  "kernelspec": {
   "display_name": "Python 3 (ipykernel)",
   "language": "python",
   "name": "python3"
  },
  "language_info": {
   "codemirror_mode": {
    "name": "ipython",
    "version": 3
   },
   "file_extension": ".py",
   "mimetype": "text/x-python",
   "name": "python",
   "nbconvert_exporter": "python",
   "pygments_lexer": "ipython3",
   "version": "3.10.8"
  }
 },
 "nbformat": 4,
 "nbformat_minor": 5
}
