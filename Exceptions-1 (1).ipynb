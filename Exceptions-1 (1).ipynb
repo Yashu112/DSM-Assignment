{
 "cells": [
  {
   "cell_type": "markdown",
   "id": "2bbe0f1c-0174-4d62-8a6c-9572dcdf65c1",
   "metadata": {},
   "source": [
    "# Exception handling-1"
   ]
  },
  {
   "cell_type": "markdown",
   "id": "1f0c9c11-c0ec-41b2-b387-7a33de296e5c",
   "metadata": {},
   "source": []
  },
  {
   "cell_type": "markdown",
   "id": "eaa864ec-ddba-4757-9d04-edc15e6212b8",
   "metadata": {},
   "source": [
    "Q1. What is an Exception in pthon? Write the difference between Exceptions and syntax errors?\n",
    "\n",
    "Ans. An Exception is an error ehich occurs when Python fails to execute a paritcular set of code of our program in a particular situation. For example, if we divide a number by 0, ZeroDivsionError is raised as division by zero is not defined.  When an exception is raised, the execution of program stops.\n",
    "\n",
    "Syntax error are related to syntax of our code such as using a for statement without using a colon(:). But exceptions are not related to syntax. An exception can occur even if syntax is correct. Exception occurs due to failure to execute an statement which may be syntactically correct.\n",
    "\n",
    "For example:"
   ]
  },
  {
   "cell_type": "code",
   "execution_count": 34,
   "id": "c94466ab-dbd8-456d-a73c-8a051dd726be",
   "metadata": {},
   "outputs": [
    {
     "ename": "SyntaxError",
     "evalue": "invalid syntax. Perhaps you forgot a comma? (3367431555.py, line 4)",
     "output_type": "error",
     "traceback": [
      "\u001b[0;36m  Cell \u001b[0;32mIn[34], line 4\u001b[0;36m\u001b[0m\n\u001b[0;31m    print(a b)\u001b[0m\n\u001b[0m          ^\u001b[0m\n\u001b[0;31mSyntaxError\u001b[0m\u001b[0;31m:\u001b[0m invalid syntax. Perhaps you forgot a comma?\n"
     ]
    }
   ],
   "source": [
    "#Solution-1:\n",
    "\n",
    "#example of syntax error\n",
    "print(a b)"
   ]
  },
  {
   "cell_type": "code",
   "execution_count": 33,
   "id": "87fad9d1-c752-4c7b-b8c3-15c72f37153e",
   "metadata": {},
   "outputs": [
    {
     "ename": "FileNotFoundError",
     "evalue": "[Errno 2] No such file or directory: 'file.txt'",
     "output_type": "error",
     "traceback": [
      "\u001b[0;31m---------------------------------------------------------------------------\u001b[0m",
      "\u001b[0;31mFileNotFoundError\u001b[0m                         Traceback (most recent call last)",
      "Cell \u001b[0;32mIn[33], line 2\u001b[0m\n\u001b[1;32m      1\u001b[0m \u001b[38;5;66;03m#Examples of exceptiona\u001b[39;00m\n\u001b[0;32m----> 2\u001b[0m f \u001b[38;5;241m=\u001b[39m \u001b[38;5;28;43mopen\u001b[39;49m\u001b[43m(\u001b[49m\u001b[38;5;124;43m'\u001b[39;49m\u001b[38;5;124;43mfile.txt\u001b[39;49m\u001b[38;5;124;43m'\u001b[39;49m\u001b[43m,\u001b[49m\u001b[38;5;124;43m'\u001b[39;49m\u001b[38;5;124;43mr\u001b[39;49m\u001b[38;5;124;43m'\u001b[39;49m\u001b[43m)\u001b[49m \u001b[38;5;66;03m#no syntax error but exception is raised\u001b[39;00m\n",
      "File \u001b[0;32m/opt/conda/lib/python3.10/site-packages/IPython/core/interactiveshell.py:282\u001b[0m, in \u001b[0;36m_modified_open\u001b[0;34m(file, *args, **kwargs)\u001b[0m\n\u001b[1;32m    275\u001b[0m \u001b[38;5;28;01mif\u001b[39;00m file \u001b[38;5;129;01min\u001b[39;00m {\u001b[38;5;241m0\u001b[39m, \u001b[38;5;241m1\u001b[39m, \u001b[38;5;241m2\u001b[39m}:\n\u001b[1;32m    276\u001b[0m     \u001b[38;5;28;01mraise\u001b[39;00m \u001b[38;5;167;01mValueError\u001b[39;00m(\n\u001b[1;32m    277\u001b[0m         \u001b[38;5;124mf\u001b[39m\u001b[38;5;124m\"\u001b[39m\u001b[38;5;124mIPython won\u001b[39m\u001b[38;5;124m'\u001b[39m\u001b[38;5;124mt let you open fd=\u001b[39m\u001b[38;5;132;01m{\u001b[39;00mfile\u001b[38;5;132;01m}\u001b[39;00m\u001b[38;5;124m by default \u001b[39m\u001b[38;5;124m\"\u001b[39m\n\u001b[1;32m    278\u001b[0m         \u001b[38;5;124m\"\u001b[39m\u001b[38;5;124mas it is likely to crash IPython. If you know what you are doing, \u001b[39m\u001b[38;5;124m\"\u001b[39m\n\u001b[1;32m    279\u001b[0m         \u001b[38;5;124m\"\u001b[39m\u001b[38;5;124myou can use builtins\u001b[39m\u001b[38;5;124m'\u001b[39m\u001b[38;5;124m open.\u001b[39m\u001b[38;5;124m\"\u001b[39m\n\u001b[1;32m    280\u001b[0m     )\n\u001b[0;32m--> 282\u001b[0m \u001b[38;5;28;01mreturn\u001b[39;00m \u001b[43mio_open\u001b[49m\u001b[43m(\u001b[49m\u001b[43mfile\u001b[49m\u001b[43m,\u001b[49m\u001b[43m \u001b[49m\u001b[38;5;241;43m*\u001b[39;49m\u001b[43margs\u001b[49m\u001b[43m,\u001b[49m\u001b[43m \u001b[49m\u001b[38;5;241;43m*\u001b[39;49m\u001b[38;5;241;43m*\u001b[39;49m\u001b[43mkwargs\u001b[49m\u001b[43m)\u001b[49m\n",
      "\u001b[0;31mFileNotFoundError\u001b[0m: [Errno 2] No such file or directory: 'file.txt'"
     ]
    }
   ],
   "source": [
    "#Examples of exceptiona\n",
    "f = open('file.txt','r') #no syntax error but exception is raised"
   ]
  },
  {
   "cell_type": "code",
   "execution_count": 6,
   "id": "890a6484-0287-494b-b184-19b9dc968c32",
   "metadata": {},
   "outputs": [
    {
     "ename": "NameError",
     "evalue": "name 'abc' is not defined",
     "output_type": "error",
     "traceback": [
      "\u001b[0;31m---------------------------------------------------------------------------\u001b[0m",
      "\u001b[0;31mNameError\u001b[0m                                 Traceback (most recent call last)",
      "Cell \u001b[0;32mIn[6], line 2\u001b[0m\n\u001b[1;32m      1\u001b[0m \u001b[38;5;66;03m#Example-2\u001b[39;00m\n\u001b[0;32m----> 2\u001b[0m \u001b[43mabc\u001b[49m\u001b[38;5;241m/\u001b[39m\u001b[38;5;241m2\u001b[39m \u001b[38;5;66;03m#here abc is undefined so Name Error is raised\u001b[39;00m\n",
      "\u001b[0;31mNameError\u001b[0m: name 'abc' is not defined"
     ]
    }
   ],
   "source": [
    "#Example-2\n",
    "abc/2 #here abc is undefined so Name Error is raised"
   ]
  },
  {
   "cell_type": "code",
   "execution_count": 7,
   "id": "b1dd8ca7-62e7-4edb-a016-ca80670c3220",
   "metadata": {},
   "outputs": [
    {
     "ename": "TypeError",
     "evalue": "unsupported operand type(s) for /: 'str' and 'int'",
     "output_type": "error",
     "traceback": [
      "\u001b[0;31m---------------------------------------------------------------------------\u001b[0m",
      "\u001b[0;31mTypeError\u001b[0m                                 Traceback (most recent call last)",
      "Cell \u001b[0;32mIn[7], line 2\u001b[0m\n\u001b[1;32m      1\u001b[0m \u001b[38;5;66;03m#Example-3\u001b[39;00m\n\u001b[0;32m----> 2\u001b[0m \u001b[38;5;124;43m'\u001b[39;49m\u001b[38;5;124;43mstring\u001b[39;49m\u001b[38;5;124;43m'\u001b[39;49m\u001b[38;5;241;43m/\u001b[39;49m\u001b[38;5;241;43m10\u001b[39;49m\n",
      "\u001b[0;31mTypeError\u001b[0m: unsupported operand type(s) for /: 'str' and 'int'"
     ]
    }
   ],
   "source": [
    "#Example-3\n",
    "'string'/10 #string can't be divided by integer so Type Error is used"
   ]
  },
  {
   "cell_type": "markdown",
   "id": "7d8a0b18-1eb7-440c-9921-933ad54c1739",
   "metadata": {},
   "source": []
  },
  {
   "cell_type": "markdown",
   "id": "e2adefe3-6e8a-4cf4-a84d-15d509d9c058",
   "metadata": {},
   "source": [
    "Q2. What happens when exception is not handled? Explain with an example?\n",
    "\n",
    "Ans. When an exception is not handled, the execution of program stops and the lines following the line where exception occurs are not executed.\n",
    "\n",
    "Example:"
   ]
  },
  {
   "cell_type": "code",
   "execution_count": 14,
   "id": "0c426884-ddff-4946-9505-4e38864d2349",
   "metadata": {},
   "outputs": [
    {
     "ename": "ZeroDivisionError",
     "evalue": "division by zero",
     "output_type": "error",
     "traceback": [
      "\u001b[0;31m---------------------------------------------------------------------------\u001b[0m",
      "\u001b[0;31mZeroDivisionError\u001b[0m                         Traceback (most recent call last)",
      "Cell \u001b[0;32mIn[14], line 3\u001b[0m\n\u001b[1;32m      1\u001b[0m \u001b[38;5;66;03m#Solution-2:\u001b[39;00m\n\u001b[1;32m      2\u001b[0m a \u001b[38;5;241m=\u001b[39m \u001b[38;5;241m10\u001b[39m\n\u001b[0;32m----> 3\u001b[0m \u001b[43ma\u001b[49m\u001b[38;5;241;43m/\u001b[39;49m\u001b[38;5;241;43m0\u001b[39;49m\n\u001b[1;32m      4\u001b[0m \u001b[38;5;28mprint\u001b[39m(a) \u001b[38;5;66;03m#this line is not execcuted\u001b[39;00m\n",
      "\u001b[0;31mZeroDivisionError\u001b[0m: division by zero"
     ]
    }
   ],
   "source": [
    "#Solution-2:\n",
    "a = 10\n",
    "a/0\n",
    "print(a) #this line is not execcuted"
   ]
  },
  {
   "cell_type": "markdown",
   "id": "840f0cdc-c918-49a1-b562-6443a1c26e7e",
   "metadata": {},
   "source": []
  },
  {
   "cell_type": "markdown",
   "id": "40b718f1-b400-4e71-a0a3-82c1a3224ff7",
   "metadata": {},
   "source": [
    "Q3. Which Python statements are used to catch and handle exceptions? Explain with an example?\n",
    "\n",
    "Ans. The try and except statements are used to catch and handle exceptions in python. The code which may result in an exception is put under try block. If any exception is raised in try block, code under except block gets executed. In this way the execution of program doesn't get interrupted.\n",
    "\n",
    "Example:\n"
   ]
  },
  {
   "cell_type": "code",
   "execution_count": 10,
   "id": "f1424ad9-704f-4879-9330-8e5b132904a6",
   "metadata": {},
   "outputs": [
    {
     "ename": "TypeError",
     "evalue": "can only concatenate list (not \"tuple\") to list",
     "output_type": "error",
     "traceback": [
      "\u001b[0;31m---------------------------------------------------------------------------\u001b[0m",
      "\u001b[0;31mTypeError\u001b[0m                                 Traceback (most recent call last)",
      "Cell \u001b[0;32mIn[10], line 5\u001b[0m\n\u001b[1;32m      3\u001b[0m my_list \u001b[38;5;241m=\u001b[39m [\u001b[38;5;241m1\u001b[39m,\u001b[38;5;241m2\u001b[39m,\u001b[38;5;241m3\u001b[39m,\u001b[38;5;241m4\u001b[39m,\u001b[38;5;241m5\u001b[39m,\u001b[38;5;241m6\u001b[39m,\u001b[38;5;124m'\u001b[39m\u001b[38;5;124ma\u001b[39m\u001b[38;5;124m'\u001b[39m,\u001b[38;5;124m'\u001b[39m\u001b[38;5;124mb\u001b[39m\u001b[38;5;124m'\u001b[39m,\u001b[38;5;124m'\u001b[39m\u001b[38;5;124mc\u001b[39m\u001b[38;5;124m'\u001b[39m,\u001b[38;5;124m'\u001b[39m\u001b[38;5;124md\u001b[39m\u001b[38;5;124m'\u001b[39m,\u001b[38;5;124m'\u001b[39m\u001b[38;5;124mc\u001b[39m\u001b[38;5;124m'\u001b[39m]\n\u001b[1;32m      4\u001b[0m my_tuple \u001b[38;5;241m=\u001b[39m (\u001b[38;5;241m7\u001b[39m,\u001b[38;5;241m8\u001b[39m,\u001b[38;5;241m9\u001b[39m,\u001b[38;5;241m10\u001b[39m,\u001b[38;5;124m'\u001b[39m\u001b[38;5;124mf\u001b[39m\u001b[38;5;124m'\u001b[39m,\u001b[38;5;124m'\u001b[39m\u001b[38;5;124mg\u001b[39m\u001b[38;5;124m'\u001b[39m)\n\u001b[0;32m----> 5\u001b[0m \u001b[38;5;28mprint\u001b[39m(\u001b[43mmy_list\u001b[49m\u001b[43m \u001b[49m\u001b[38;5;241;43m+\u001b[39;49m\u001b[43m \u001b[49m\u001b[43mmy_tuple\u001b[49m)  \u001b[38;5;66;03m#this will raise an exception\u001b[39;00m\n\u001b[1;32m      7\u001b[0m \u001b[38;5;28mprint\u001b[39m(\u001b[38;5;124m\"\u001b[39m\u001b[38;5;124mExecution of program stops\u001b[39m\u001b[38;5;124m\"\u001b[39m)   \u001b[38;5;66;03m#this is not executed due to exceptions\u001b[39;00m\n",
      "\u001b[0;31mTypeError\u001b[0m: can only concatenate list (not \"tuple\") to list"
     ]
    }
   ],
   "source": [
    "#Solution-3\n",
    "\n",
    "my_list = [1,2,3,4,5,6,'a','b','c','d','c']\n",
    "my_tuple = (7,8,9,10,'f','g')\n",
    "print(my_list + my_tuple)  #this will raise an exception\n",
    "\n",
    "print(\"Execution of program stops\")   #this is not executed due to exceptions"
   ]
  },
  {
   "cell_type": "code",
   "execution_count": 11,
   "id": "0a5607b1-bc24-4697-a1b7-92d00b352cf1",
   "metadata": {},
   "outputs": [
    {
     "name": "stdout",
     "output_type": "stream",
     "text": [
      "Exception occurred: can only concatenate list (not \"tuple\") to list\n",
      "Execution of program doesn't stop\n"
     ]
    }
   ],
   "source": [
    "#handling the exception\n",
    "try:\n",
    "    my_list = [1,2,3,4,5,6,'a','b','c','d','c']\n",
    "    my_tuple = (7,8,9,10,'f','g')\n",
    "    print(my_list + my_tuple)  #this will raise an exception\n",
    "except Exception as e:\n",
    "    print(\"Exception occurred:\",e) #the exception is cathced by this code\n",
    "    \n",
    "print(\"Execution of program doesn't stop\")   #this is also executed"
   ]
  },
  {
   "cell_type": "markdown",
   "id": "f92d04b5-daa8-446b-9731-d89048a07ad4",
   "metadata": {},
   "source": []
  },
  {
   "cell_type": "markdown",
   "id": "4884ecd1-680e-4b83-9e6b-04b5037e6cf9",
   "metadata": {},
   "source": [
    "Q4. Explain with an example:\n",
    "    \n",
    "    a. try and else    \n",
    "    b. finally    \n",
    "    c. raise\n",
    "    \n",
    "Ans.\n",
    "1. try and else - We put the code to be checked for exception under the try block. When else block is used with try, then it gets executed if code under try block is successfully executed.\n",
    "2. finally - it is always executed irrespective of any exception occurs or not\n",
    "3. raise - it is used to raise any kind of exception, it can be a custom or one already defined \n"
   ]
  },
  {
   "cell_type": "code",
   "execution_count": 13,
   "id": "8071e811-b61b-4e13-96d4-2072e27b3a33",
   "metadata": {},
   "outputs": [
    {
     "name": "stdout",
     "output_type": "stream",
     "text": [
      "Try successful\n",
      "Else executed\n"
     ]
    }
   ],
   "source": [
    "#Solution-4\n",
    "\n",
    "#try and else\n",
    "#without exception\n",
    "try:\n",
    "    print(\"Try successful\") \n",
    "    \n",
    "except Exception as e:\n",
    "    print(\"Exception :\",e)\n",
    "    \n",
    "else:\n",
    "    print(\"Else executed\")    "
   ]
  },
  {
   "cell_type": "code",
   "execution_count": 16,
   "id": "164916c1-5b16-425d-983f-3cded3822797",
   "metadata": {},
   "outputs": [
    {
     "name": "stdout",
     "output_type": "stream",
     "text": [
      "Exception : name 'exception' is not defined\n"
     ]
    }
   ],
   "source": [
    "##try and else\n",
    "#with exception\n",
    "try:\n",
    "    print(exception)  #this will raise exception\n",
    "    \n",
    "except Exception as e:\n",
    "    print(\"Exception :\",e)\n",
    "    \n",
    "else:\n",
    "    print(\"Else executed\") #else doesn't gets executed "
   ]
  },
  {
   "cell_type": "markdown",
   "id": "431a6da4-9047-4585-ac1e-5ff06d1dc5e6",
   "metadata": {},
   "source": []
  },
  {
   "cell_type": "code",
   "execution_count": 12,
   "id": "14356837-d180-4867-9513-2495aac5edb2",
   "metadata": {},
   "outputs": [
    {
     "name": "stdout",
     "output_type": "stream",
     "text": [
      "Excception occured : division by zero\n",
      "Finally is always executed\n"
     ]
    }
   ],
   "source": [
    "#Example of finally\n",
    "#code with exception\n",
    "try:\n",
    "    1/0\n",
    "\n",
    "except Exception as e:\n",
    "    print(\"Excception occured :\",e)\n",
    "\n",
    "finally:\n",
    "    print(\"Finally is always executed\")"
   ]
  },
  {
   "cell_type": "code",
   "execution_count": 1,
   "id": "2b3fafae-09f7-4389-bdfa-67e94ca38e80",
   "metadata": {},
   "outputs": [
    {
     "name": "stdout",
     "output_type": "stream",
     "text": [
      "No exception\n",
      "Finally is always executed\n"
     ]
    }
   ],
   "source": [
    "#Example of finally\n",
    "#code withou exception\n",
    "try:\n",
    "    print('No exception')\n",
    "\n",
    "except Exception as e:\n",
    "    print(\"Excception occured :\",e)\n",
    "\n",
    "finally:\n",
    "    print(\"Finally is always executed\")"
   ]
  },
  {
   "cell_type": "markdown",
   "id": "e1a3dab6-8f14-455e-90a7-aa4ec6a0f6ff",
   "metadata": {},
   "source": []
  },
  {
   "cell_type": "code",
   "execution_count": 18,
   "id": "fb674d72-5316-4a6e-b678-56ebd6de9d28",
   "metadata": {},
   "outputs": [
    {
     "ename": "Exception",
     "evalue": "I am raising a random exception with raise",
     "output_type": "error",
     "traceback": [
      "\u001b[0;31m---------------------------------------------------------------------------\u001b[0m",
      "\u001b[0;31mException\u001b[0m                                 Traceback (most recent call last)",
      "Cell \u001b[0;32mIn[18], line 3\u001b[0m\n\u001b[1;32m      1\u001b[0m \u001b[38;5;66;03m#Example of raise\u001b[39;00m\n\u001b[0;32m----> 3\u001b[0m \u001b[38;5;28;01mraise\u001b[39;00m \u001b[38;5;167;01mException\u001b[39;00m(\u001b[38;5;124m\"\u001b[39m\u001b[38;5;124mI am raising a random exception with raise\u001b[39m\u001b[38;5;124m\"\u001b[39m)\n",
      "\u001b[0;31mException\u001b[0m: I am raising a random exception with raise"
     ]
    }
   ],
   "source": [
    "#Example of raise\n",
    "\n",
    "raise Exception(\"I am raising a random exception with raise\")"
   ]
  },
  {
   "cell_type": "code",
   "execution_count": 32,
   "id": "57611c56-d6e5-4b44-91b2-2dc5dbe3049e",
   "metadata": {},
   "outputs": [
    {
     "ename": "Exception",
     "evalue": "Natural numbers cannot be negative",
     "output_type": "error",
     "traceback": [
      "\u001b[0;31m---------------------------------------------------------------------------\u001b[0m",
      "\u001b[0;31mException\u001b[0m                                 Traceback (most recent call last)",
      "Cell \u001b[0;32mIn[32], line 5\u001b[0m\n\u001b[1;32m      3\u001b[0m \u001b[38;5;28;01mfor\u001b[39;00m i \u001b[38;5;129;01min\u001b[39;00m \u001b[38;5;28mrange\u001b[39m(\u001b[38;5;28mlen\u001b[39m(natural_num)):\n\u001b[1;32m      4\u001b[0m     \u001b[38;5;28;01mif\u001b[39;00m natural_num[i] \u001b[38;5;241m<\u001b[39m \u001b[38;5;241m0\u001b[39m:\n\u001b[0;32m----> 5\u001b[0m         \u001b[38;5;28;01mraise\u001b[39;00m \u001b[38;5;167;01mException\u001b[39;00m(\u001b[38;5;124m'\u001b[39m\u001b[38;5;124mNatural numbers cannot be negative\u001b[39m\u001b[38;5;124m'\u001b[39m)\n",
      "\u001b[0;31mException\u001b[0m: Natural numbers cannot be negative"
     ]
    }
   ],
   "source": [
    "#another example\n",
    "natural_num = [1,2,3,4,5,6,7,2.3,4.5,2.5,-7,-87]\n",
    "\n",
    "for i in range(len(natural_num)):\n",
    "    if natural_num[i] < 0:\n",
    "        raise Exception('Natural numbers cannot be negative')"
   ]
  },
  {
   "cell_type": "markdown",
   "id": "f2ecf86e-b9ca-4b78-8d7d-e0c4b3bcc547",
   "metadata": {},
   "source": []
  },
  {
   "cell_type": "markdown",
   "id": "a4ba483b-8422-44a5-9f4b-d1a40f7a9efe",
   "metadata": {},
   "source": [
    "Q5. What are Custom Exceptions in python? Why do we need Custom Exceptions? Explain with an example?\n",
    "\n",
    "Ans. Custom Exceptions are used when our particular exception is not mentioned inthe main Exception class of Python.\n",
    "\n",
    "We need Custom Exceptions in situations where an exception as per some real life problem may not be defined in the main Exception class.\n",
    "\n",
    "Example-"
   ]
  },
  {
   "cell_type": "code",
   "execution_count": 18,
   "id": "77bc5ecb-7496-4272-a7dc-1d78d6b6e8ff",
   "metadata": {},
   "outputs": [
    {
     "name": "stdin",
     "output_type": "stream",
     "text": [
      "Enter marks:  -99\n"
     ]
    },
    {
     "name": "stdout",
     "output_type": "stream",
     "text": [
      "Custom Exception : Marks cannot be negative\n"
     ]
    }
   ],
   "source": [
    "#Solution-5\n",
    "class val_marks(Exception):\n",
    "    \n",
    "    def __init__(self,msg):\n",
    "        self.msg = msg\n",
    "    \n",
    "def validate_marks(marks):\n",
    "    if marks < 0:\n",
    "        raise val_marks('Marks cannot be negative')\n",
    "    \n",
    "try:\n",
    "    marks = int(input('Enter marks: '))\n",
    "    validate_marks(marks)\n",
    "except Exception as e:\n",
    "    print(\"Custom Exception :\",e)"
   ]
  },
  {
   "cell_type": "markdown",
   "id": "cab7a211-46dc-4066-a319-7d7a2bf98275",
   "metadata": {},
   "source": []
  },
  {
   "cell_type": "markdown",
   "id": "3447777d-5622-4875-a879-8bd284d48a58",
   "metadata": {},
   "source": [
    "Q6. Create custom exception class. Use this class to handle an exception."
   ]
  },
  {
   "cell_type": "code",
   "execution_count": 20,
   "id": "87cc4f60-1547-4d79-aba3-2f44c4c3c2d2",
   "metadata": {},
   "outputs": [
    {
     "name": "stdin",
     "output_type": "stream",
     "text": [
      "Enter phone number: 23456\n"
     ]
    },
    {
     "name": "stdout",
     "output_type": "stream",
     "text": [
      "Custom Exception : Please enter 10 digit phone number\n"
     ]
    }
   ],
   "source": [
    "#Solution-6\n",
    "#custom exception class\n",
    "class ph_num(Exception):\n",
    "    \n",
    "    def __init__(self,msg):\n",
    "        self.msg = msg\n",
    "    \n",
    "def validate_phone(num):\n",
    "    if num<0:\n",
    "        raise ph_num('Phone number cannot be negative')\n",
    "    elif len(str(num))<10:\n",
    "        raise ph_num('Please enter 10 digit phone number')\n",
    "    \n",
    "#use\n",
    "try:\n",
    "    num = int(input('Enter phone number:'))\n",
    "    validate_phone(num)\n",
    "except Exception as e:\n",
    "    print(\"Custom Exception :\",e)"
   ]
  },
  {
   "cell_type": "code",
   "execution_count": null,
   "id": "0ae48f42-d0b3-4eb8-b1dc-7d086d269ba3",
   "metadata": {},
   "outputs": [],
   "source": []
  }
 ],
 "metadata": {
  "kernelspec": {
   "display_name": "Python 3 (ipykernel)",
   "language": "python",
   "name": "python3"
  },
  "language_info": {
   "codemirror_mode": {
    "name": "ipython",
    "version": 3
   },
   "file_extension": ".py",
   "mimetype": "text/x-python",
   "name": "python",
   "nbconvert_exporter": "python",
   "pygments_lexer": "ipython3",
   "version": "3.10.8"
  }
 },
 "nbformat": 4,
 "nbformat_minor": 5
}
