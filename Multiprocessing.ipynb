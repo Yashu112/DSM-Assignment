{
 "cells": [
  {
   "cell_type": "markdown",
   "id": "fda24d17-54bf-4b85-b958-de92365c0136",
   "metadata": {},
   "source": [
    "# Multiprocessing Assignment"
   ]
  },
  {
   "cell_type": "markdown",
   "id": "7b32079a-78ff-4134-80e4-90be490fc7e4",
   "metadata": {},
   "source": []
  },
  {
   "cell_type": "markdown",
   "id": "2eca9870-c243-408c-b74f-7b1cce56fe8c",
   "metadata": {},
   "source": [
    "Q1. What is multiprocessing in python? Why is it useful?\n",
    "\n",
    "Ans. Multiprocessing means breaking down a task into multiple processes for concurrent execution. The task is broken into multiple processes which are distributed across different CPU cores to achieve parallel execution. \n",
    "\n",
    "It is useful as we can utilize our resources in efficient way, we can make use of idle and unused CPU cores, improving performance of program and reduce execution time.\n",
    "\n",
    "Example:"
   ]
  },
  {
   "cell_type": "code",
   "execution_count": 7,
   "id": "e4c3c2fa-aaf2-4013-b5f2-4ef3fdc52e1e",
   "metadata": {},
   "outputs": [
    {
     "name": "stdout",
     "output_type": "stream",
     "text": [
      "This is main\n",
      "\n",
      "This is multi-processing process number 1 at time = Thu Jun 15 08:22:13 2023\n",
      "This is multi-processing process number 2 at time = Thu Jun 15 08:22:13 2023\n",
      "This is multi-processing process number 3 at time = Thu Jun 15 08:22:13 2023\n",
      "This is multi-processing process number 4 at time = Thu Jun 15 08:22:13 2023\n",
      "This is multi-processing process number 5 at time = Thu Jun 15 08:22:13 2023\n",
      "This is multi-processing process number 6 at time = Thu Jun 15 08:22:13 2023\n",
      "This is multi-processing process number 7 at time = Thu Jun 15 08:22:13 2023\n",
      "This is multi-processing process number 8 at time = Thu Jun 15 08:22:13 2023\n",
      "This is multi-processing process number 9 at time = Thu Jun 15 08:22:13 2023\n",
      "This is multi-processing process number 10 at time = Thu Jun 15 08:22:14 2023\n"
     ]
    }
   ],
   "source": [
    "#Solution 1\n",
    "import multiprocessing\n",
    "import time\n",
    "def test(i):\n",
    "    print(f\"This is multi-processing process number {i} at time = {time.asctime()}\")\n",
    "    \n",
    "if __name__ == '__main__':\n",
    "    n = [multiprocessing.Process(target=test, args=(i,)) for i in range(1,11)]\n",
    "    print('This is main\\n')\n",
    "    \n",
    "    for i in n:\n",
    "        i.start()\n",
    "        \n",
    "    for i in n:\n",
    "        i.join()"
   ]
  },
  {
   "cell_type": "markdown",
   "id": "0d1b7cd7-27fe-4fc8-9d55-2bf2f0d11ec8",
   "metadata": {},
   "source": []
  },
  {
   "cell_type": "markdown",
   "id": "cb3e863f-593c-4095-bf7a-867881070b1e",
   "metadata": {},
   "source": [
    "Q2. What are the differences between multiprocessing and multithreading?\n",
    "\n",
    "Ans. Mutli-processing means dividing a thread into **multiple processes** which are executed individually and separately and are distributed over **multiple cpu cores**.\n",
    "\n",
    "Whereas Multithreading means dividng a **single process** into **multiple threads** which are executed concurrently on a **single cpu core**.\n"
   ]
  },
  {
   "cell_type": "markdown",
   "id": "1b0580d3-1bb7-419a-937c-76cafab78cdb",
   "metadata": {},
   "source": []
  },
  {
   "cell_type": "markdown",
   "id": "139fd877-7f2c-470b-8cdf-60bba1f3fc49",
   "metadata": {},
   "source": [
    "Q3. Write a python code to create a process using the multiprocessing module.\n",
    "\n",
    "Ans. Example is provided below. We see that multiple processes are started at the same time, so output is scattered"
   ]
  },
  {
   "cell_type": "code",
   "execution_count": 13,
   "id": "02e1022c-96e0-44d5-a459-dfef246e0bb5",
   "metadata": {},
   "outputs": [
    {
     "name": "stdout",
     "output_type": "stream",
     "text": [
      "This is main\n",
      "\n",
      "This is process number 1 created using multiprocessing module\n",
      "\n",
      "\n",
      " 1 x 1 = 1 This is process number 2 created using multiprocessing module\n",
      "\n",
      " 1 x 2 = 2  2 x 1 = 2 This is process number 3 created using multiprocessing module\n",
      "\n",
      "\n",
      " 1 x 3 = 3 \n",
      " 2 x 2 = 4 \n",
      " 3 x 1 = 3 \n",
      "This is process number 4 created using multiprocessing module\n",
      " 1 x 4 = 4 \n",
      " 2 x 3 = 6 \n",
      "\n",
      " 3 x 2 = 6 \n",
      " 4 x 1 = 4 \n",
      " 2 x 4 = 8 \n",
      " 3 x 3 = 9 \n",
      " 4 x 2 = 8 \n",
      "\n",
      " 3 x 4 = 12  4 x 3 = 12 \n",
      "\n",
      " 4 x 4 = 16 \n"
     ]
    }
   ],
   "source": [
    "#Solution 1\n",
    "import multiprocessing\n",
    "\n",
    "def test_2(n):\n",
    "    print(f\"This is process number {n} created using multiprocessing module\\n\")\n",
    "    for i in range(1,5):\n",
    "        print(f' {n} x {i} = {n*i} ')\n",
    "    \n",
    "if __name__ == '__main__':\n",
    "    n = [multiprocessing.Process(target=test_2, args=(i,)) for i in range(1,5)]\n",
    "    print('This is main\\n')\n",
    "    \n",
    "    for i in n:\n",
    "        i.start()\n",
    "        \n",
    "    for i in n:\n",
    "        i.join()"
   ]
  },
  {
   "cell_type": "markdown",
   "id": "de44ee19-55cf-40e4-93db-203754317752",
   "metadata": {},
   "source": []
  },
  {
   "cell_type": "markdown",
   "id": "fe700470-8f05-461d-974a-217867abb6c7",
   "metadata": {},
   "source": [
    "Q4. What is a multiprocessing pool in python? Why is it used?\n",
    "\n",
    "Ans. Multiprocessing module includes a pool class. Pool is a group of processes which are executed simultaneously. map(), apply() methods can be used to apply a given function to multiple arguments using a pool of processes.\n",
    "\n",
    "Pool is used to break down big processes into separate smaller processes which are distributed across different CPU cores and are executed simultaneously. \n",
    "\n",
    "Example of pool is provided in the next question."
   ]
  },
  {
   "cell_type": "markdown",
   "id": "82f97a25-b2e0-4a0b-a1bb-663c222bab8e",
   "metadata": {},
   "source": []
  },
  {
   "cell_type": "markdown",
   "id": "e0705211-c072-44ea-a619-a63362af0b76",
   "metadata": {},
   "source": [
    "Q5. How can we create a pool of worker processes in python using the multiprocessing module?\n",
    "\n",
    "Ans. Creating a pool is demonstrated as follows-"
   ]
  },
  {
   "cell_type": "code",
   "execution_count": 27,
   "id": "a151fe14-bb09-49ce-8563-c1e66680de5d",
   "metadata": {},
   "outputs": [
    {
     "name": "stdout",
     "output_type": "stream",
     "text": [
      "Cubes of numbers from 1-50 are :\n",
      "\n",
      "[1, 8, 27, 64, 125, 216, 343, 512, 729, 1000, 1331, 1728, 2197, 2744, 3375, 4096, 4913, 5832, 6859, 8000, 9261, 10648, 12167, 13824, 15625, 17576, 19683, 21952, 24389, 27000, 29791, 32768, 35937, 39304, 42875, 46656, 50653, 54872, 59319, 64000, 68921, 74088, 79507, 85184, 91125, 97336, 103823, 110592, 117649, 125000]\n"
     ]
    }
   ],
   "source": [
    "def cube(n):\n",
    "    return n**3\n",
    "\n",
    "if __name__ == '__main__':\n",
    "    with multiprocessing.Pool(processes=10) as pool : \n",
    "        out = pool.map(cube , [i for i in range(1,51)])\n",
    "        print('Cubes of numbers from 1-50 are :\\n')\n",
    "        print(out)\n",
    "        pool.terminate()\n",
    "    \n",
    "    "
   ]
  },
  {
   "cell_type": "markdown",
   "id": "c69e51f2-93fc-4a1b-9bd8-dce6a7acf51c",
   "metadata": {},
   "source": []
  },
  {
   "cell_type": "markdown",
   "id": "89fcdfb6-c1d1-4825-9aa3-657557dae61c",
   "metadata": {},
   "source": [
    "Q6. Write a python program to create 4 processes, each process should print a different number using the multiprocessing module in python."
   ]
  },
  {
   "cell_type": "code",
   "execution_count": 30,
   "id": "3bbb5201-5634-4442-8fab-38aa143a780b",
   "metadata": {},
   "outputs": [
    {
     "name": "stdout",
     "output_type": "stream",
     "text": [
      " This is my process number 1 \n",
      " 10 multiples of 1 are = [1, 2, 3, 4, 5, 6, 7, 8, 9, 10] \n",
      "Process 1 finished\n",
      " This is my process number 2 \n",
      "\n",
      " 10 multiples of 2 are = [2, 4, 6, 8, 10, 12, 14, 16, 18, 20] \n",
      "Process 2 finished\n",
      "\n",
      " This is my process number 3 \n",
      " 10 multiples of 3 are = [3, 6, 9, 12, 15, 18, 21, 24, 27, 30] \n",
      "Process 3 finished\n",
      "\n",
      " This is my process number 4 \n",
      " 10 multiples of 4 are = [4, 8, 12, 16, 20, 24, 28, 32, 36, 40] \n",
      "Process 4 finished\n",
      "\n"
     ]
    }
   ],
   "source": [
    "def test_3(n):\n",
    "    print(f' This is my process number {n} ')\n",
    "    l = [n*i for i in range(1,11)]\n",
    "    print(f' 10 multiples of {n} are = {l} \\nProcess {n} finished\\n')\n",
    "    \n",
    "    \n",
    "if __name__ == '__main__':\n",
    "    \n",
    "    #the list comprehension below creates 4 processes\n",
    "    processes =[multiprocessing.Process(target=test_3, args=(i,)) for i in range(1,5)] \n",
    "    \n",
    "    for p in processes:\n",
    "        p.start()\n",
    "    for p in processes:\n",
    "        p.join()"
   ]
  },
  {
   "cell_type": "code",
   "execution_count": null,
   "id": "7a7c4be2-ec6e-4139-b7ef-289112751023",
   "metadata": {},
   "outputs": [],
   "source": []
  }
 ],
 "metadata": {
  "kernelspec": {
   "display_name": "Python 3 (ipykernel)",
   "language": "python",
   "name": "python3"
  },
  "language_info": {
   "codemirror_mode": {
    "name": "ipython",
    "version": 3
   },
   "file_extension": ".py",
   "mimetype": "text/x-python",
   "name": "python",
   "nbconvert_exporter": "python",
   "pygments_lexer": "ipython3",
   "version": "3.10.8"
  }
 },
 "nbformat": 4,
 "nbformat_minor": 5
}
