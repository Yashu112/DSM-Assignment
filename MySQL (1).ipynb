{
 "cells": [
  {
   "cell_type": "markdown",
   "id": "d39283cd-e906-452e-a7a2-6210ee046cfb",
   "metadata": {},
   "source": [
    "# MySql Assignments"
   ]
  },
  {
   "cell_type": "markdown",
   "id": "80aab482-512e-4a6b-8e71-0dcf6e22280e",
   "metadata": {},
   "source": []
  },
  {
   "cell_type": "markdown",
   "id": "7b8a7e53-528e-481c-bb4d-e20018a6c7b1",
   "metadata": {},
   "source": [
    "Q1. What is a database? Differentiate between SQL and NoSQL databases.\n",
    "\n",
    "Ans. A Database is a large structured collection of data that is used for better manipulation, storage and retreival of data. Data is stored in form of database objects such as tables. Databases are used almost everywhere such as in Schools, E Commerce, Web Development, etc.\n",
    "\n",
    "**SQL** - It stands for **Structured Query Language**. It is a kind of Relational Database Management system. Here Data is organized in structured format in the form of rows and tables. It is more structured. For example, we can't under number in column of name. \n",
    "\n",
    "Example, MySQL.\n",
    "\n",
    "**NoSQL** - It stands for **Not only SQL**. It used for storing semi-structured or unstructured data. It is very flexible system of storing data. Here data is stored in form of key-value pair, documents etc. \n",
    "\n",
    "Example, MongoDB"
   ]
  },
  {
   "cell_type": "markdown",
   "id": "2f33ff3f-7cae-4614-978d-321efdb03f8d",
   "metadata": {},
   "source": []
  },
  {
   "cell_type": "markdown",
   "id": "5e8eb044-0950-4de3-9021-4bf2fb0e5676",
   "metadata": {},
   "source": [
    "Q2. What is DDL? Explain why CREATE, DROP, ALTER, and TRUNCATE are used with an example.\n",
    "\n",
    "Ans. DDL stands for **Data Definition Language**. It refers to those set of SQL commands which can be used to create and alter Database and Database objects such as Tables and columns, etc. But these can't be used to create data or new records. They are used to define the general structure of tables.\n",
    "\n",
    "CREATE - It can be used to create a new database or a table.\n",
    "\n",
    "DROP - It can be used to delete a table or database.\n",
    "\n",
    "ALTER - It can be used to change the structure of a table.\n",
    "\n",
    "TRUNCATE - It is used to delete all records of a table.\n",
    "\n",
    "Examples are given below-\n"
   ]
  },
  {
   "cell_type": "code",
   "execution_count": 1,
   "id": "ab80e989",
   "metadata": {},
   "outputs": [
    {
     "name": "stdout",
     "output_type": "stream",
     "text": [
      "We see that Database named MY_DB has been created :\n",
      "('MY_DB',)\n",
      "('TEST',)\n",
      "('information_schema',)\n",
      "('mysql',)\n",
      "('performance_schema',)\n",
      "('sys',)\n"
     ]
    }
   ],
   "source": [
    "import mysql.connector\n",
    "mydb = mysql.connector.connect(\n",
    "    host = \"localhost\",\n",
    "    user = \"abc\",\n",
    "    password = \"password\"    \n",
    ")\n",
    "mycursor = mydb.cursor()\n",
    "\n",
    "#EXAMPLE OF USE OF CREATE-\n",
    "#CREATING A DATABASE\n",
    "mycursor.execute(\"CREATE DATABASE if not exists MY_DB\")\n",
    "\n",
    "#CREATING A TABLE AND PUTTING VALUES\n",
    "mycursor.execute(\"CREATE TABLE if not exists MY_DB.SPIDERMAN(ID INT, NAME VARCHAR(50), ROLE_PLAYED VARCHAR(50)) \")\n",
    "\n",
    "mycursor.execute(\"insert into MY_DB.SPIDERMAN values(1,'Tobey Maguire','Spider-Man (sony)')\")\n",
    "mycursor.execute(\"insert into MY_DB.SPIDERMAN values(2,'Andrew Garfield','Amazing Spider-man (sony)')\")\n",
    "mycursor.execute(\"insert into MY_DB.SPIDERMAN values(3,'Tom Holland','Spider-man (sony)')\")\n",
    "\n",
    "#Creating another table\n",
    "mycursor.execute(\"CREATE TABLE if not exists MY_DB.X_MEN(ID INT, NAME VARCHAR(50), ROLE_PLAYED VARCHAR(50)) \")\n",
    "\n",
    "print(\"We see that Database named MY_DB has been created :\")\n",
    "mycursor.execute(\"SHOW DATABASES\")\n",
    "for x in mycursor:\n",
    "    print(x)\n",
    "\n",
    "mydb.commit()\n",
    "mydb.close()"
   ]
  },
  {
   "cell_type": "code",
   "execution_count": 2,
   "id": "1e399446",
   "metadata": {},
   "outputs": [
    {
     "name": "stdout",
     "output_type": "stream",
     "text": [
      "Tables in MY_DB before use of Drop :\n",
      "('SPIDERMAN',)\n",
      "('X_MEN',)\n",
      "\n",
      "Tables in MY_DB after use of Drop :\n",
      "('SPIDERMAN',)\n"
     ]
    }
   ],
   "source": [
    "mydb = mysql.connector.connect(\n",
    "    host = \"localhost\",\n",
    "    user = \"abc\",\n",
    "    password = \"password\"    \n",
    ")\n",
    "mycursor = mydb.cursor()\n",
    "#USE OF DROP\n",
    "print(\"Tables in MY_DB before use of Drop :\")\n",
    "mycursor.execute(\"SHOW TABLES IN MY_DB\")\n",
    "for i in mycursor:\n",
    "    print(i)\n",
    "\n",
    "#USE OF DROP\n",
    "\n",
    "mycursor.execute(\"DROP TABLE MY_DB.X_MEN\")\n",
    "\n",
    "print(\"\\nTables in MY_DB after use of Drop :\")\n",
    "mycursor.execute(\"SHOW TABLES IN MY_DB\")\n",
    "for i in mycursor:\n",
    "    print(i)\n",
    "mydb.commit()\n",
    "mydb.close()"
   ]
  },
  {
   "cell_type": "code",
   "execution_count": 4,
   "id": "948203e2",
   "metadata": {},
   "outputs": [
    {
     "name": "stdout",
     "output_type": "stream",
     "text": [
      "COLUMNS BEFORE ALTER:\n",
      "('ID', b'int', 'YES', '', None, '')\n",
      "('NAME', b'varchar(50)', 'YES', '', None, '')\n",
      "('CLASS', b'int', 'YES', '', None, '')\n",
      "\n",
      "COLUMNS AFTER ALTER:\n",
      "('ID', b'int', 'YES', '', None, '')\n",
      "('NAME', b'varchar(50)', 'YES', '', None, '')\n",
      "('CLASS', b'int', 'YES', '', None, '')\n",
      "('AGE', b'int', 'YES', '', None, '')\n"
     ]
    }
   ],
   "source": [
    "#USE OF ALTER\n",
    "import mysql.connector\n",
    "mydb = mysql.connector.connect(\n",
    "    host = \"localhost\",\n",
    "    user = \"abc\",\n",
    "    password = \"password\"    \n",
    ")\n",
    "mycursor = mydb.cursor()\n",
    "\n",
    "print(\"COLUMNS BEFORE ALTER:\")\n",
    "mycursor.execute(\"show columns from TEST.student\")\n",
    "for i in mycursor.fetchall():\n",
    "    print(i)\n",
    "\n",
    "mycursor.execute(\"ALTER TABLE TEST.student ADD COLUMN AGE INT\")\n",
    "\n",
    "print(\"\\nCOLUMNS AFTER ALTER:\")\n",
    "mycursor.execute(\"show columns from TEST.student\")\n",
    "for i in mycursor.fetchall():\n",
    "    print(i)\n",
    "    \n",
    "mydb.commit()"
   ]
  },
  {
   "cell_type": "code",
   "execution_count": 5,
   "id": "409126b7",
   "metadata": {},
   "outputs": [
    {
     "name": "stdout",
     "output_type": "stream",
     "text": [
      "Data in table before Truncate:\n",
      "(1, 'Tobey Maguire', 'Spider-Man (sony)', None, None)\n",
      "(2, 'Andrew Garfield', 'Amazing Spider-man (sony)', None, None)\n",
      "(3, 'Tom Holland', 'Spider-man (sony)', None, None)\n",
      "\n",
      "Data in table after Truncate:\n"
     ]
    }
   ],
   "source": [
    "import mysql.connector\n",
    "mydb = mysql.connector.connect(\n",
    "    host = \"localhost\",\n",
    "    user = \"abc\",\n",
    "    password = \"password\"    \n",
    ")\n",
    "mycursor = mydb.cursor()\n",
    "mycursor.execute(\"select * from MY_DB.SPIDERMAN\")\n",
    "\n",
    "print('Data in table before Truncate:')\n",
    "for i in mycursor:\n",
    "    print(i)\n",
    "\n",
    "mycursor.execute(\"TRUNCATE TABLE MY_DB.SPIDERMAN\")\n",
    "\n",
    "mycursor.execute(\"select * from MY_DB.SPIDERMAN\")\n",
    "\n",
    "print('\\nData in table after Truncate:')\n",
    "for i in mycursor:\n",
    "    print(i)\n",
    "\n",
    "mydb.commit()"
   ]
  },
  {
   "cell_type": "markdown",
   "id": "4a8fa3f5",
   "metadata": {},
   "source": [
    "We see that no data gets displayed after TRUNCATE as it deletes all data."
   ]
  },
  {
   "cell_type": "markdown",
   "id": "babc7599-7c19-41c4-aeba-782c8cb11de4",
   "metadata": {},
   "source": []
  },
  {
   "cell_type": "markdown",
   "id": "62711b92-b040-4430-85eb-4479ba6beb0c",
   "metadata": {},
   "source": [
    "Q3. What is DML? Explain INSERT, UPDATE, and DELETE with an example.\n",
    "\n",
    "Ans. DML stands for **Data Manipulation Language**. These instructions are used to modify data and records of a table, such as adding new records, updating the records or deleting them.\n",
    "\n",
    "INSERT - it is used to insert new values\n",
    "\n",
    "UPDATE - it is used to update existing records of table\n",
    "\n",
    "DELETE - it is used to delete records of table"
   ]
  },
  {
   "cell_type": "code",
   "execution_count": 2,
   "id": "273ba4f2",
   "metadata": {},
   "outputs": [
    {
     "name": "stdout",
     "output_type": "stream",
     "text": [
      "(1, 'Chris Evans', 12)\n",
      "(2, 'Robert Downy Jr.', 11)\n",
      "(3, 'Scarlett Johnson', 10)\n",
      "(4, 'Bria Larson', 12)\n",
      "(5, 'Mark Ruffalo', 10)\n"
     ]
    }
   ],
   "source": [
    "import mysql.connector\n",
    "mydb = mysql.connector.connect(\n",
    "    host = \"localhost\",\n",
    "    user = \"abc\",\n",
    "    password = \"password\"    \n",
    ")\n",
    "mycursor = mydb.cursor()\n",
    "\n",
    "#CREATING A TABLE AND PUTTING VALUES\n",
    "mycursor.execute(\"CREATE TABLE if not exists TEST.student(ID INT, NAME VARCHAR(50), CLASS INT) \")\n",
    "\n",
    "#USE OF INSERT\n",
    "mycursor.execute(\"INSERT into TEST.student values(1,'Chris Evans',12)\")\n",
    "mycursor.execute(\"INSERT into TEST.student values(2,'Robert Downy Jr.',11)\")\n",
    "mycursor.execute(\"INSERT into TEST.student values(3,'Scarlett Johnson',10)\")\n",
    "mycursor.execute(\"INSERT into TEST.student values(4,'Bria Larson',12)\")\n",
    "mycursor.execute(\"INSERT into TEST.student values(5,'Mark Ruffalo',10)\")\n",
    "\n",
    "mycursor.execute(\"select * from TEST.student\")\n",
    "\n",
    "for i in mycursor.fetchall():\n",
    "    print(i)\n",
    "mydb.commit()\n"
   ]
  },
  {
   "cell_type": "code",
   "execution_count": 4,
   "id": "09c3cc0d",
   "metadata": {},
   "outputs": [
    {
     "name": "stdout",
     "output_type": "stream",
     "text": [
      "UPDATE RECORDS :\n",
      "(1, 'Chris Evans', 12)\n",
      "(2, 'Robert Downy Jr.', 11)\n",
      "(3, 'Scarlett Johnson', 11)\n",
      "(4, 'Bria Larson', 12)\n",
      "(5, 'Mark Ruffalo', 11)\n"
     ]
    }
   ],
   "source": [
    "#USE OF UPDATE\n",
    "mycursor.execute(\"UPDATE TEST.student SET CLASS=11 WHERE CLASS=10\")\n",
    "\n",
    "mycursor.execute(\"select * from TEST.student\")\n",
    "\n",
    "print(\"UPDATE RECORDS :\")\n",
    "for i in mycursor.fetchall():\n",
    "    print(i)\n",
    "mydb.commit()\n"
   ]
  },
  {
   "cell_type": "markdown",
   "id": "3d54e738-b725-491c-9658-dda47b3c41c9",
   "metadata": {},
   "source": []
  },
  {
   "cell_type": "code",
   "execution_count": 7,
   "id": "117af3c9",
   "metadata": {},
   "outputs": [
    {
     "name": "stdout",
     "output_type": "stream",
     "text": [
      "WE SEE TWO RECORDS HAVE BEEN DELETED :\n",
      "(2, 'Robert Downy Jr.', 11)\n",
      "(3, 'Scarlett Johnson', 11)\n",
      "(5, 'Mark Ruffalo', 11)\n"
     ]
    }
   ],
   "source": [
    "#USE OF DELETE\n",
    "mycursor.execute(\"DELETE FROM TEST.student  WHERE CLASS=12\")\n",
    "\n",
    "mycursor.execute(\"select * from TEST.student\")\n",
    "\n",
    "print(\"WE SEE TWO RECORDS HAVE BEEN DELETED :\")\n",
    "for i in mycursor.fetchall():\n",
    "    print(i)\n",
    "mydb.commit()\n",
    "mydb.close()"
   ]
  },
  {
   "cell_type": "markdown",
   "id": "d2b6b5b5",
   "metadata": {},
   "source": []
  },
  {
   "cell_type": "markdown",
   "id": "e4460974-5d63-4aa3-9d64-0bfa90fb35c2",
   "metadata": {},
   "source": [
    "Q4. What is DQL? Explain SELECT with an example.\n",
    "\n",
    "Ans. DQL stands for **Data Query Language**. It is the set of instructions which are used to fetch or retrieve data rom a table. For example these can be used to find dat based on some condition.\n",
    "\n",
    "SELECT - this command can be used to retreive data from a table, we  can also provide some condition.\n",
    "\n",
    "Examples:"
   ]
  },
  {
   "cell_type": "code",
   "execution_count": 16,
   "id": "9a02bf29",
   "metadata": {},
   "outputs": [
    {
     "name": "stdout",
     "output_type": "stream",
     "text": [
      "(2, 'Robert Downy Jr.', 11)\n",
      "(3, 'Scarlett Johnson', 11)\n",
      "(5, 'Mark Ruffalo', 11)\n"
     ]
    }
   ],
   "source": [
    "import mysql.connector\n",
    "mydb = mysql.connector.connect(\n",
    "    host = \"localhost\",\n",
    "    user = \"abc\",\n",
    "    password = \"password\"    \n",
    ")\n",
    "mycursor = mydb.cursor()\n",
    "\n",
    "#selecting all data\n",
    "mycursor.execute(\"SELECT * from TEST.student\")\n",
    "\n",
    "for i in mycursor.fetchall():\n",
    "    print(i)\n",
    "\n",
    "mydb.commit()"
   ]
  },
  {
   "cell_type": "code",
   "execution_count": 23,
   "id": "70eae9c5",
   "metadata": {},
   "outputs": [
    {
     "name": "stdout",
     "output_type": "stream",
     "text": [
      "(3, 'Scarlett Johnson')\n"
     ]
    }
   ],
   "source": [
    "import mysql.connector\n",
    "mydb = mysql.connector.connect(\n",
    "    host = \"localhost\",\n",
    "    user = \"abc\",\n",
    "    password = \"password\"    \n",
    ")\n",
    "mycursor = mydb.cursor()\n",
    "#selecting with condition\n",
    "mycursor.execute(\"SELECT ID, NAME FROM TEST.student WHERE ID=3\")\n",
    "\n",
    "for i in mycursor.fetchall():\n",
    "    print(i)\n",
    "\n",
    "mydb.commit()\n",
    "mydb.close()"
   ]
  },
  {
   "cell_type": "markdown",
   "id": "2da53ff9-1b38-41e7-8ce6-ad3135145d30",
   "metadata": {},
   "source": []
  },
  {
   "cell_type": "markdown",
   "id": "a3616135-4bdc-4340-91c2-7da6f2b0bc45",
   "metadata": {},
   "source": [
    "Q5. Explain Primary Key and Foreign Key.\n",
    "\n",
    "Ans. A Primary Key is used to uniquely identify ecah row in a table in a database. It can be defined using a single column or group of columns. It's features are:\n",
    "\n",
    "- Uniqueness - It should be unique, two rows can't have same primary key. For example, username is unique.\n",
    "- Non-Nullability - It should not be null, it should have some value\n",
    "- Immutability - It can't be changed\n",
    "\n",
    "A Foreign key is a field or column in one table (child) that is used to refer to the Primary key in another table(Parent). It is used to establish relations between different tables in Relational Database Management System."
   ]
  },
  {
   "cell_type": "markdown",
   "id": "aeb76255-27cb-4bab-9e91-9f609ca8279f",
   "metadata": {},
   "source": []
  },
  {
   "cell_type": "markdown",
   "id": "813d443f-2770-4bfb-91aa-fed0aff6a7ab",
   "metadata": {},
   "source": [
    "Q6. Write a python code to connect MySQL to python. Explain the cursor() and execute() method.\n",
    "\n",
    "Ans. The python code shown below shows connecting to MySQL and prints the available databases.\n",
    "\n",
    "cursor() - it is an objectt which is used to interact with the database. For example, in the code below mycursor is used to select and display all rows of a table.\n",
    "\n",
    "execute() - this method is used to execute any MySQL query from Python. We simply have to type the MySQL query as string to this method.\n",
    "\n",
    "Example:"
   ]
  },
  {
   "cell_type": "code",
   "execution_count": 3,
   "id": "9a24f9f2-64ed-4ca8-9e0b-15d8983e8e35",
   "metadata": {},
   "outputs": [
    {
     "name": "stdout",
     "output_type": "stream",
     "text": [
      "(1, 'Chris Evans', 'Captain America')\n",
      "(2, 'Robert Downy Jr.', 'Iron Man')\n",
      "(3, 'Scarlett Johnson', 'Black Widow')\n",
      "(4, 'Bria Larson', 'Captain Marvel')\n",
      "(5, 'Mark Ruffalo', 'Hulk')\n"
     ]
    }
   ],
   "source": [
    "import mysql.connector\n",
    "mydb = mysql.connector.connect(\n",
    "    host = \"localhost\",\n",
    "    user = \"abc\",\n",
    "    password = \"password\"    \n",
    ")\n",
    "mycursor = mydb.cursor()\n",
    "\n",
    "#CREATING A DATABASE\n",
    "mycursor.execute(\"CREATE DATABASE if not exists TEST\")\n",
    "\n",
    "#CREATING A TABLE AND PUTTING VALUES\n",
    "mycursor.execute(\"CREATE TABLE if not exists TEST.marvel(ID INT, NAME VARCHAR(50), ROLE_PLAYED VARCHAR(50)) \")\n",
    "\n",
    "mycursor.execute(\"insert into TEST.marvel values(1,'Chris Evans','Captain America')\")\n",
    "mycursor.execute(\"insert into TEST.marvel values(2,'Robert Downy Jr.','Iron Man')\")\n",
    "mycursor.execute(\"insert into TEST.marvel values(3,'Scarlett Johnson','Black Widow')\")\n",
    "mycursor.execute(\"insert into TEST.marvel values(4,'Bria Larson','Captain Marvel')\")\n",
    "mycursor.execute(\"insert into TEST.marvel values(5,'Mark Ruffalo','Hulk')\")\n",
    "\n",
    "mycursor.execute(\"select * from TEST.marvel\")\n",
    "\n",
    "\n",
    "\n",
    "for i in mycursor.fetchall():\n",
    "    print(i)\n",
    "mydb.commit()\n",
    "mydb.close()"
   ]
  },
  {
   "cell_type": "markdown",
   "id": "b67239ae",
   "metadata": {},
   "source": []
  },
  {
   "cell_type": "markdown",
   "id": "1d749aa2-04f7-4104-8928-1a32a0f838e5",
   "metadata": {},
   "source": [
    "Q7. Give the order of execution of SQL clauses in an SQL query.\n",
    "\n",
    "Ans. The order of execution of SQL queries is as follows-\n",
    "\n",
    "1. FROM: Specifies the tables or views from which the data will be retrieved.\n",
    "2. WHERE: Applies conditions to filter the rows based on specific criteria.\n",
    "3. GROUP BY: Groups the rows based on specified columns to perform aggregate functions.\n",
    "4. HAVING: Filters the grouped rows based on specified conditions.\n",
    "5. SELECT: Specifies the columns to be retrieved from the tables.\n",
    "6. DISTINCT: Removes duplicate rows from the result set.\n",
    "7. ORDER BY: Sorts the result set based on specified columns.\n",
    "8. LIMIT/OFFSET: Restricts the number of rows returned or skips a certain number of rows.\n",
    "9. UNION/INTERSECT/EXCEPT: Combines multiple result sets or performs set operations.\n",
    "10. INSERT/UPDATE/DELETE: Modifies the data in the database based on specified conditions.\n",
    "11. COMMIT/ROLLBACK: Confirms or cancels the changes made to the database.\n",
    "12. LOCKING: Applies locks to the database objects to manage concurrency and data integrity.\n",
    "13. EXECUTE: Executes stored procedures or functions.\n",
    "14. FETCH: Retrieves a specific number of rows from the result set.\n",
    "15. UNION/INTERSECT/EXCEPT (ALL): Performs set operations on multiple result sets, allowing duplicates.\n",
    "16. SELECT DISTINCT: Removes duplicate rows from the result set after the SELECT clause has been executed.\n",
    "17. ORDER BY (with expressions): Sorts the result set based on expressions or calculated values.\n",
    "18. LIMIT/OFFSET (with FETCH FIRST): Restricts the number of rows returned or skips rows using FETCH FIRST syntax.\n",
    "19. FETCH (with OFFSET): Retrieves a specific number of rows starting from a particular offset."
   ]
  },
  {
   "cell_type": "markdown",
   "id": "b78c468c",
   "metadata": {},
   "source": []
  }
 ],
 "metadata": {
  "kernelspec": {
   "display_name": "Python 3.8.10 64-bit",
   "language": "python",
   "name": "python3"
  },
  "language_info": {
   "codemirror_mode": {
    "name": "ipython",
    "version": 3
   },
   "file_extension": ".py",
   "mimetype": "text/x-python",
   "name": "python",
   "nbconvert_exporter": "python",
   "pygments_lexer": "ipython3",
   "version": "3.8.10"
  },
  "vscode": {
   "interpreter": {
    "hash": "e7370f93d1d0cde622a1f8e1c04877d8463912d04d973331ad4851f04de6915a"
   }
  }
 },
 "nbformat": 4,
 "nbformat_minor": 5
}
