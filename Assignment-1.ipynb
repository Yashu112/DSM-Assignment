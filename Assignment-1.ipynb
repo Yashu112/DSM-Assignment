{
 "cells": [
  {
   "cell_type": "markdown",
   "id": "39940089-dde5-4226-8e52-e3fc9b6b63ab",
   "metadata": {},
   "source": [
    "Q1. Create one variable containing following type of data:\n",
    "\n",
    "(i) string\n",
    "(ii) list\n",
    "(iii) float\n",
    "(iv) tuple\n",
    "\n",
    "solution-"
   ]
  },
  {
   "cell_type": "code",
   "execution_count": 1,
   "id": "9fc86cdd-b4f6-4ebf-9c04-f23393ac6c5a",
   "metadata": {},
   "outputs": [],
   "source": [
    "string = \"Hello!\"\n",
    "list_eg = [1,2,3,'a','b']\n",
    "float_eg = 3.14\n",
    "tuple_eg =('hello','world',1,2,3)"
   ]
  },
  {
   "cell_type": "markdown",
   "id": "9cb327ad-3c8b-4559-a8df-472676bd108a",
   "metadata": {},
   "source": [
    "Q2. Given are some following variables containing data:\n",
    "\n",
    "(i) var1 = ‘ ‘\n",
    "\n",
    "(ii) var2 = ‘[ DS , ML , Python]’\n",
    "\n",
    "(iii) var3 = [ ‘DS’ , ’ML’ , ‘Python’ ]\n",
    "\n",
    "(iv) var4 = 1.\n",
    "\n",
    "What will be the data type of the above given variable.\n",
    "\n",
    " Solution -\n",
    " \n",
    "(i) var1 = string\n",
    "\n",
    "(ii) var2 = string\n",
    "\n",
    "(iii) var3 = list\n",
    "\n",
    "(iv) var4 = float\n",
    "\n",
    "verification"
   ]
  },
  {
   "cell_type": "code",
   "execution_count": 2,
   "id": "8bcca107-a7fc-43e8-9960-b880162763ad",
   "metadata": {},
   "outputs": [],
   "source": [
    "var1 = ''\n",
    "var2 = '[ DS , ML , Python]'\n",
    "var3 = [ 'DS' , 'ML' , 'Python' ]\n",
    "var4 = 1."
   ]
  },
  {
   "cell_type": "code",
   "execution_count": 3,
   "id": "aba58003-b5b3-4228-ae1d-d9bdf5753483",
   "metadata": {},
   "outputs": [
    {
     "name": "stdout",
     "output_type": "stream",
     "text": [
      "<class 'str'>\n",
      "<class 'str'>\n",
      "<class 'list'>\n",
      "<class 'float'>\n"
     ]
    }
   ],
   "source": [
    "print(type(var1))\n",
    "print(type(var2))\n",
    "print(type(var3))\n",
    "print(type(var4))"
   ]
  },
  {
   "cell_type": "markdown",
   "id": "ed5c79ac-c44a-4b27-96b5-df3ced757b42",
   "metadata": {},
   "source": [
    "Q3. Explain the use of the following operators using an example:\n",
    "\n",
    "(i) / - divide two numbers\n",
    "\n",
    "(ii) % - modulo operator, gives the remainder when a number is divided by another\n",
    "\n",
    "(iii) // - division floor, rounds of qoutient of division to the nearest integer less than quotient\n",
    "\n",
    "(iv) ** - exponent operator, to find powers\n",
    "\n",
    "examples-"
   ]
  },
  {
   "cell_type": "code",
   "execution_count": 4,
   "id": "63dd4191-d32e-4409-b4b6-2a0f1e628186",
   "metadata": {},
   "outputs": [
    {
     "name": "stdout",
     "output_type": "stream",
     "text": [
      "8/6 = 1.3333333333333333\n",
      "8%6 = 2\n",
      "8//6 = 1\n",
      "3**4 = 81\n"
     ]
    }
   ],
   "source": [
    "print('8/6 =',8/6)\n",
    "print('8%6 =',8%6)\n",
    "print('8//6 =',8//6)\n",
    "print('3**4 =',3**4)"
   ]
  },
  {
   "cell_type": "markdown",
   "id": "7ac1e068-b765-47c3-964a-faf659a5204b",
   "metadata": {},
   "source": [
    "Q4. Create a list of length 10 of your choice containing multiple types of data. Using for loop print the\n",
    "element and its data type."
   ]
  },
  {
   "cell_type": "code",
   "execution_count": 5,
   "id": "0bf38d5f-21b2-49de-89f4-92013c354677",
   "metadata": {},
   "outputs": [],
   "source": [
    "my_list = [123,10.01,True,'Sa','Re','Ga','Ma','Pa','Dha','Ni']"
   ]
  },
  {
   "cell_type": "code",
   "execution_count": 6,
   "id": "08976a8d-9701-41c3-9435-475977088fad",
   "metadata": {},
   "outputs": [
    {
     "name": "stdout",
     "output_type": "stream",
     "text": [
      "Element - 123\n",
      "Type - <class 'int'>\n",
      "Element - 10.01\n",
      "Type - <class 'float'>\n",
      "Element - True\n",
      "Type - <class 'bool'>\n",
      "Element - Sa\n",
      "Type - <class 'str'>\n",
      "Element - Re\n",
      "Type - <class 'str'>\n",
      "Element - Ga\n",
      "Type - <class 'str'>\n",
      "Element - Ma\n",
      "Type - <class 'str'>\n",
      "Element - Pa\n",
      "Type - <class 'str'>\n",
      "Element - Dha\n",
      "Type - <class 'str'>\n",
      "Element - Ni\n",
      "Type - <class 'str'>\n"
     ]
    }
   ],
   "source": [
    "for i in my_list:\n",
    "    print('Element -',i)\n",
    "    print('Type -', type(i))"
   ]
  },
  {
   "cell_type": "markdown",
   "id": "cd7f6dec-c288-4aaf-ad4c-ce9e86f68449",
   "metadata": {},
   "source": [
    "Q5. Using a while loop, verify if the number A is purely divisible by number B and if so then how many\n",
    "times it can be divisible."
   ]
  },
  {
   "cell_type": "code",
   "execution_count": 2,
   "id": "a0e75b7c-310f-4996-8ead-d5a8eacb26cc",
   "metadata": {},
   "outputs": [
    {
     "name": "stdout",
     "output_type": "stream",
     "text": [
      "Enter A\n"
     ]
    },
    {
     "name": "stdin",
     "output_type": "stream",
     "text": [
      " 27\n"
     ]
    },
    {
     "name": "stdout",
     "output_type": "stream",
     "text": [
      "Enter B\n"
     ]
    },
    {
     "name": "stdin",
     "output_type": "stream",
     "text": [
      " 3\n"
     ]
    },
    {
     "name": "stdout",
     "output_type": "stream",
     "text": [
      "A is divisible by B 3 times\n"
     ]
    }
   ],
   "source": [
    "print('Enter A')\n",
    "A=int(input())\n",
    "print('Enter B')\n",
    "B=int(input())\n",
    "rem=A%B\n",
    "i=0\n",
    "if rem==0:\n",
    "    while (rem==0 and A!=0):\n",
    "        i+=1\n",
    "        A=A/B\n",
    "        rem=A%B\n",
    "    print('A is divisible by B',i,'times')\n",
    "else:\n",
    "    print('A is not divisible by B')"
   ]
  },
  {
   "cell_type": "markdown",
   "id": "9570b890-81d3-4eaa-8bd0-b4430fb7736b",
   "metadata": {},
   "source": [
    "Q6. Create a list containing 25 int type data. Using for loop and if-else condition print if the element is\n",
    "divisible by 3 or not."
   ]
  },
  {
   "cell_type": "code",
   "execution_count": 8,
   "id": "260f2ae5-c961-45d7-b67e-07f12b31bc4e",
   "metadata": {},
   "outputs": [
    {
     "name": "stdout",
     "output_type": "stream",
     "text": [
      "1 is not divisbile by 3\n",
      "2 is not divisbile by 3\n",
      "3 is divisbile by 3\n",
      "4 is not divisbile by 3\n",
      "5 is not divisbile by 3\n",
      "6 is divisbile by 3\n",
      "7 is not divisbile by 3\n",
      "8 is not divisbile by 3\n",
      "9 is divisbile by 3\n",
      "10 is not divisbile by 3\n",
      "11 is not divisbile by 3\n",
      "12 is divisbile by 3\n",
      "13 is not divisbile by 3\n",
      "14 is not divisbile by 3\n",
      "15 is divisbile by 3\n",
      "16 is not divisbile by 3\n",
      "17 is not divisbile by 3\n",
      "18 is divisbile by 3\n",
      "19 is not divisbile by 3\n",
      "20 is not divisbile by 3\n",
      "21 is divisbile by 3\n",
      "22 is not divisbile by 3\n",
      "23 is not divisbile by 3\n",
      "24 is divisbile by 3\n",
      "25 is not divisbile by 3\n"
     ]
    }
   ],
   "source": [
    "int_list=[1,2,3,4,5,6,7,8,9,10,11,12,13,14,15,16,17,18,19,20,21,22,23,24,25]\n",
    "for i in int_list:\n",
    "    rem=i%3\n",
    "    if rem==0:\n",
    "        print(i,'is divisbile by 3')\n",
    "    else:\n",
    "        print(i,'is not divisbile by 3')"
   ]
  },
  {
   "cell_type": "markdown",
   "id": "87c7c2a7-054f-4135-a130-27c6e8b0f67e",
   "metadata": {},
   "source": [
    "Q7. What do you understand about mutable and immutable data types? Give examples for both showing\n",
    "this property.\n",
    "\n",
    "Ans. Mutable objects are those whose elements at particular indexes can be mutated, i.e., changed without overwriting    the complete variable. For example, list. \n",
    "\n",
    "Immutable objects are those whose elements at particular indexes cannot be changed, we cannot change an item at a particular index without overwriting the complete variable. For example, string. \n",
    "\n",
    "Below are examples of each type-"
   ]
  },
  {
   "cell_type": "markdown",
   "id": "c02e1a76-a7a8-40ae-9100-265a070ca0ac",
   "metadata": {},
   "source": [
    "Example of mutable-"
   ]
  },
  {
   "cell_type": "code",
   "execution_count": 9,
   "id": "3a02daa7-e431-489d-9328-aa2b4fefb47b",
   "metadata": {},
   "outputs": [],
   "source": [
    "list1 = ['a','b','c',1,3,6]"
   ]
  },
  {
   "cell_type": "code",
   "execution_count": 10,
   "id": "093a3d2e-06ed-498f-98f0-128f5bed8d32",
   "metadata": {},
   "outputs": [
    {
     "data": {
      "text/plain": [
       "3"
      ]
     },
     "execution_count": 10,
     "metadata": {},
     "output_type": "execute_result"
    }
   ],
   "source": [
    "list1[4]"
   ]
  },
  {
   "cell_type": "code",
   "execution_count": 11,
   "id": "70d6eb41-fc63-4c29-8eb1-60249e791717",
   "metadata": {},
   "outputs": [],
   "source": [
    "list1[4]=0"
   ]
  },
  {
   "cell_type": "code",
   "execution_count": 12,
   "id": "cbfef98a-12f0-46e9-bb66-4a34e823db3e",
   "metadata": {},
   "outputs": [
    {
     "data": {
      "text/plain": [
       "0"
      ]
     },
     "execution_count": 12,
     "metadata": {},
     "output_type": "execute_result"
    }
   ],
   "source": [
    "list1[4]"
   ]
  },
  {
   "cell_type": "code",
   "execution_count": 13,
   "id": "f79d538a-8a87-4be0-8574-4c0657d3ec52",
   "metadata": {},
   "outputs": [
    {
     "data": {
      "text/plain": [
       "['a', 'b', 'c', 1, 0, 6]"
      ]
     },
     "execution_count": 13,
     "metadata": {},
     "output_type": "execute_result"
    }
   ],
   "source": [
    "list1"
   ]
  },
  {
   "cell_type": "markdown",
   "id": "ab9363df-3ed0-4700-abe5-075cc82864ea",
   "metadata": {},
   "source": [
    "Example of immutable-"
   ]
  },
  {
   "cell_type": "code",
   "execution_count": 14,
   "id": "b3ce9b11-504f-468a-a509-f501f25e5d0a",
   "metadata": {},
   "outputs": [],
   "source": [
    "str1=\"Power\""
   ]
  },
  {
   "cell_type": "code",
   "execution_count": 15,
   "id": "1ba805d3-6a16-4dc3-bc7d-37baaba6bd32",
   "metadata": {},
   "outputs": [
    {
     "data": {
      "text/plain": [
       "'P'"
      ]
     },
     "execution_count": 15,
     "metadata": {},
     "output_type": "execute_result"
    }
   ],
   "source": [
    "str1[0]"
   ]
  },
  {
   "cell_type": "code",
   "execution_count": 16,
   "id": "25b18f51-c477-42b8-ae19-9316999467c7",
   "metadata": {},
   "outputs": [
    {
     "ename": "TypeError",
     "evalue": "'str' object does not support item assignment",
     "output_type": "error",
     "traceback": [
      "\u001b[0;31m---------------------------------------------------------------------------\u001b[0m",
      "\u001b[0;31mTypeError\u001b[0m                                 Traceback (most recent call last)",
      "Cell \u001b[0;32mIn[16], line 1\u001b[0m\n\u001b[0;32m----> 1\u001b[0m \u001b[43mstr1\u001b[49m\u001b[43m[\u001b[49m\u001b[38;5;241;43m0\u001b[39;49m\u001b[43m]\u001b[49m\u001b[38;5;241m=\u001b[39m\u001b[38;5;124m'\u001b[39m\u001b[38;5;124mT\u001b[39m\u001b[38;5;124m'\u001b[39m\n",
      "\u001b[0;31mTypeError\u001b[0m: 'str' object does not support item assignment"
     ]
    }
   ],
   "source": [
    "str1[0]='T'"
   ]
  },
  {
   "cell_type": "code",
   "execution_count": null,
   "id": "2ebf9ff7-a369-4028-a556-674c36f20bb7",
   "metadata": {},
   "outputs": [],
   "source": []
  }
 ],
 "metadata": {
  "kernelspec": {
   "display_name": "Python 3 (ipykernel)",
   "language": "python",
   "name": "python3"
  },
  "language_info": {
   "codemirror_mode": {
    "name": "ipython",
    "version": 3
   },
   "file_extension": ".py",
   "mimetype": "text/x-python",
   "name": "python",
   "nbconvert_exporter": "python",
   "pygments_lexer": "ipython3",
   "version": "3.10.8"
  }
 },
 "nbformat": 4,
 "nbformat_minor": 5
}
