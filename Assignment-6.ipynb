{
 "cells": [
  {
   "cell_type": "markdown",
   "id": "ebdaa860-4038-412b-abf7-bae2f76f7b2f",
   "metadata": {},
   "source": [
    "Q1. Explain Class and Object with respect to Object-Oriented Programming. Give a suitable example.\n",
    "\n",
    "Ans. Class - It is a like a blueprint or a template which defines what kind of methods and attributes an object can have. It describes what kind of object we can create with it.\n",
    "\n",
    "Object - It is a particular instance of a class, it is the real world entity. An object of a class can have different attributes defined in class.\n",
    "\n",
    "*For example* - We can create a class Student with attributes Name, Class and Id. Any object of this class will have these 3 attributes. Each object will have different particular data in these categories but the overall structure is same, the categories are same for all objects."
   ]
  },
  {
   "cell_type": "code",
   "execution_count": 5,
   "id": "7109492f-9f0e-4c27-9d32-12eb751837e0",
   "metadata": {},
   "outputs": [],
   "source": [
    "#Solution-1\n",
    "#Example-\n",
    "\n",
    "class Student:\n",
    "    \n",
    "    def __init__(self,Name,Class,Id):\n",
    "        self.Name = Name\n",
    "        self.Class = Class\n",
    "        self.Id = Id"
   ]
  },
  {
   "cell_type": "code",
   "execution_count": null,
   "id": "fe209027-5ffa-4b78-85dd-699419fe85af",
   "metadata": {},
   "outputs": [],
   "source": []
  },
  {
   "cell_type": "markdown",
   "id": "6f557ae9-3765-464a-8102-d75fd4cb2925",
   "metadata": {},
   "source": [
    "Q2. Name the four pillars of OOPs.\n",
    "\n",
    "Ans. \n",
    "1. Inheritance\n",
    "2. Encapsulation\n",
    "3. Abstraction\n",
    "4. Polymorphism"
   ]
  },
  {
   "cell_type": "code",
   "execution_count": null,
   "id": "7b3c80bb-3ad4-4e9d-9203-a84621394400",
   "metadata": {},
   "outputs": [],
   "source": []
  },
  {
   "cell_type": "markdown",
   "id": "d147cc2a-d691-4cc2-ab2c-25488d64b15f",
   "metadata": {},
   "source": [
    "Q3. Explain why the __init__() function is used. Give a suitable example.\n",
    "\n",
    "Ans. **__init()__** is used as a constructor, to take arguments and create the object. It is used to initialize the object of class. It is called automatically. If arguments are not given while creating an object when __init__ is used, it will return an error. For example -"
   ]
  },
  {
   "cell_type": "code",
   "execution_count": 6,
   "id": "21d7ec88-9e67-4bfa-8ae5-de13b8045d67",
   "metadata": {},
   "outputs": [
    {
     "ename": "TypeError",
     "evalue": "dress.__init__() missing 2 required positional arguments: 'colour' and 'size'",
     "output_type": "error",
     "traceback": [
      "\u001b[0;31m---------------------------------------------------------------------------\u001b[0m",
      "\u001b[0;31mTypeError\u001b[0m                                 Traceback (most recent call last)",
      "Cell \u001b[0;32mIn[6], line 11\u001b[0m\n\u001b[1;32m      7\u001b[0m         \u001b[38;5;28mself\u001b[39m\u001b[38;5;241m.\u001b[39msize \u001b[38;5;241m=\u001b[39m size\n\u001b[1;32m      9\u001b[0m \u001b[38;5;66;03m#example 1-\u001b[39;00m\n\u001b[0;32m---> 11\u001b[0m dress_1 \u001b[38;5;241m=\u001b[39m \u001b[43mdress\u001b[49m\u001b[43m(\u001b[49m\u001b[43m)\u001b[49m \u001b[38;5;66;03m#arguments missing so this returns error\u001b[39;00m\n",
      "\u001b[0;31mTypeError\u001b[0m: dress.__init__() missing 2 required positional arguments: 'colour' and 'size'"
     ]
    }
   ],
   "source": [
    "#Solution-2\n",
    "#defining class-\n",
    "class dress:\n",
    "    \n",
    "    def __init__(self, colour, size): #__init__ used to initialise object\n",
    "        self.colour = colour\n",
    "        self.size = size\n",
    "        \n",
    "#example 1-\n",
    "\n",
    "dress_1 = dress() #arguments missing so this returns error"
   ]
  },
  {
   "cell_type": "code",
   "execution_count": 7,
   "id": "649a0f2d-87d2-489d-88e6-3ae9a36fbec4",
   "metadata": {},
   "outputs": [],
   "source": [
    "#example 2-\n",
    "\n",
    "dress_2 = dress('red',34) #no error as arguments are supplied"
   ]
  },
  {
   "cell_type": "code",
   "execution_count": null,
   "id": "0fe88b7c-fe00-45a1-a60a-40edeecb65ac",
   "metadata": {},
   "outputs": [],
   "source": []
  },
  {
   "cell_type": "markdown",
   "id": "f4a084b9-2830-46ef-80bf-8e224821c1b1",
   "metadata": {},
   "source": [
    "Q4. Why self is used in OOPs?\n",
    "\n",
    "Ans. Keyword **'self'** is used in OOPs while creating variables and methods of a class to bind the object to the given class. It is used as a reference to tell the compiler that this variable belongs to this class. It is used to invoke the object while defininig the attributes of class."
   ]
  },
  {
   "cell_type": "code",
   "execution_count": null,
   "id": "ae105f24-df20-444d-b244-45ec34af1e93",
   "metadata": {},
   "outputs": [],
   "source": []
  },
  {
   "cell_type": "markdown",
   "id": "085f1f77-0be1-42dd-ae37-a651fbd4322f",
   "metadata": {},
   "source": [
    "Q5. What is inheritance? Give an example for each type of inheritance.\n",
    "\n",
    "Ans. Inheritance is a feature of OOPs which allows a child class or a derived class to inherit characteristics such as attributes and methods from a parent class or base class. Types of inheritance -\n",
    "\n",
    "1. Single inheritance - a class inherits properties of a single parent class\n",
    "2. Multiple inheritance - a class inherits properties of two or more parent classes\n",
    "3. Multi-level inheritance - a class inherits properties of a class which itself is a child class of another class. So the lowest class has properties of both.\n",
    "4. Hierarchical inheritance - multiple classes inherit properties of a single class\n",
    "5. Hybrid inheritance - it involves combination of different inheritance creating a complex structure.\n",
    "\n",
    "Example-"
   ]
  },
  {
   "cell_type": "code",
   "execution_count": 32,
   "id": "5558b348-472e-4d63-877e-0c2c0a02127f",
   "metadata": {},
   "outputs": [],
   "source": [
    "#Solution -5\n",
    "\n",
    "#Defining base classes to show different inheritances\n",
    "class base_1:\n",
    "    \n",
    "    def mesg_1(self):\n",
    "        print('This is base class 1')\n",
    "        \n",
    "class base_2:\n",
    "    \n",
    "    def mesg_2(self):\n",
    "        print('This is base class 2')"
   ]
  },
  {
   "cell_type": "code",
   "execution_count": 33,
   "id": "056e6336-56b0-4b73-94a9-dcd9d9028158",
   "metadata": {},
   "outputs": [],
   "source": [
    "#single \n",
    "class single(base_1):\n",
    "    \n",
    "    def mesg_single(self):\n",
    "        print('single inheritance- single inherits base_1')"
   ]
  },
  {
   "cell_type": "code",
   "execution_count": 35,
   "id": "f59efb90-4d43-41ab-9268-391c37692fa7",
   "metadata": {},
   "outputs": [
    {
     "name": "stdout",
     "output_type": "stream",
     "text": [
      "single inheritance- single inherits base_1\n",
      "This is base class 1\n"
     ]
    }
   ],
   "source": [
    "sin = single() #objedct of single\n",
    "sin.mesg_single()\n",
    "sin.mesg_1() #single inheriting base_1"
   ]
  },
  {
   "cell_type": "code",
   "execution_count": 36,
   "id": "ef7323cd-202c-4dd5-b72e-e996e3ee4955",
   "metadata": {},
   "outputs": [],
   "source": [
    "#multiple\n",
    "class multi(base_1, base_2):\n",
    "    \n",
    "    def mesg_multi(self):\n",
    "        print('multiple inheritance- multi inherits base_1 and base_2')"
   ]
  },
  {
   "cell_type": "code",
   "execution_count": 40,
   "id": "d1f5a3bd-51b9-4a99-b4a7-4da97a1cfddb",
   "metadata": {},
   "outputs": [
    {
     "name": "stdout",
     "output_type": "stream",
     "text": [
      "multiple inheritance- multi inherits base_1 and base_2\n",
      "This is base class 1\n",
      "This is base class 2\n"
     ]
    }
   ],
   "source": [
    "mult = multi() #object of multi\n",
    "mult.mesg_multi()\n",
    "mult.mesg_1() \n",
    "mult.mesg_2()"
   ]
  },
  {
   "cell_type": "code",
   "execution_count": 41,
   "id": "2745c59f-bf2a-4f75-bd11-bc230f404d35",
   "metadata": {},
   "outputs": [],
   "source": [
    "#multi-level\n",
    "class multi_lev(single):\n",
    "    \n",
    "    def mesg_multi_lev(self):\n",
    "        print('multi level inheritance- multi_lev inherits single and base_1')"
   ]
  },
  {
   "cell_type": "code",
   "execution_count": 45,
   "id": "dfcdbca3-d858-4592-9db1-19e0b2da06b0",
   "metadata": {},
   "outputs": [
    {
     "name": "stdout",
     "output_type": "stream",
     "text": [
      "multi level inheritance- multi_lev inherits single and base_1\n",
      "single inheritance- single inherits base_1\n",
      "This is base class 1\n"
     ]
    }
   ],
   "source": [
    "mult_lev = multi_lev() #object of multi_lev\n",
    "mult_lev.mesg_multi_lev()\n",
    "\n",
    "#multi_lev inheriting methods from singel and base_1\n",
    "mult_lev.mesg_single()\n",
    "mult_lev.mesg_1()"
   ]
  },
  {
   "cell_type": "code",
   "execution_count": 46,
   "id": "8fef75d6-b762-4662-bbef-7d0636bf4fec",
   "metadata": {},
   "outputs": [],
   "source": [
    "#heirarchical\n",
    "class heir_1(base_1):\n",
    "    \n",
    "    def mesg_h_1(self):\n",
    "        print('heir_1 inherits base_1')\n",
    "        \n",
    "class heir_2(base_1):\n",
    "    \n",
    "    def mesg_h_2(self):\n",
    "        print('heir_2 also inherits base_1')"
   ]
  },
  {
   "cell_type": "code",
   "execution_count": 48,
   "id": "bfb893f0-f6cd-4c3f-ae30-5f35400497c9",
   "metadata": {},
   "outputs": [
    {
     "name": "stdout",
     "output_type": "stream",
     "text": [
      "heir_1 inherits base_1\n",
      "This is base class 1\n",
      "\n",
      "heir_2 also inherits base_1\n",
      "This is base class 1\n"
     ]
    }
   ],
   "source": [
    "#creating objectts\n",
    "h_1 = heir_1()\n",
    "h_2 = heir_2()\n",
    "#showing inheritance\n",
    "h_1.mesg_h_1()\n",
    "h_1.mesg_1()\n",
    "print()\n",
    "h_2.mesg_h_2()\n",
    "h_2.mesg_1()"
   ]
  },
  {
   "cell_type": "code",
   "execution_count": 51,
   "id": "fbfba429-7fbc-4064-8f2e-9e315e2965f8",
   "metadata": {},
   "outputs": [],
   "source": [
    "#hybrid\n",
    "\n",
    "class hybrid(multi_lev,multi):\n",
    "    \n",
    "    def mesg_hyb(self):\n",
    "        print(\"This is a hybrid class showing hybrid inheritance\")"
   ]
  },
  {
   "cell_type": "code",
   "execution_count": 52,
   "id": "99e6ba46-18aa-46bf-8ce3-45d02d7ede5f",
   "metadata": {},
   "outputs": [
    {
     "name": "stdout",
     "output_type": "stream",
     "text": [
      "This is a hybrid class showing hybrid inheritance\n",
      "\n",
      "This is base class 1\n",
      "This is base class 2\n",
      "multiple inheritance- multi inherits base_1 and base_2\n",
      "multi level inheritance- multi_lev inherits single and base_1\n",
      "single inheritance- single inherits base_1\n"
     ]
    }
   ],
   "source": [
    "hybrid_obj = hybrid()\n",
    "\n",
    "hybrid_obj.mesg_hyb()\n",
    "print()\n",
    "#hybrid inheriting other methods\n",
    "hybrid_obj.mesg_1()\n",
    "hybrid_obj.mesg_2()\n",
    "hybrid_obj.mesg_multi()\n",
    "hybrid_obj.mesg_multi_lev()\n",
    "hybrid_obj.mesg_single()"
   ]
  },
  {
   "cell_type": "code",
   "execution_count": null,
   "id": "4175dd4a-82f4-4e44-a6f7-c4a027a6de66",
   "metadata": {},
   "outputs": [],
   "source": []
  }
 ],
 "metadata": {
  "kernelspec": {
   "display_name": "Python 3 (ipykernel)",
   "language": "python",
   "name": "python3"
  },
  "language_info": {
   "codemirror_mode": {
    "name": "ipython",
    "version": 3
   },
   "file_extension": ".py",
   "mimetype": "text/x-python",
   "name": "python",
   "nbconvert_exporter": "python",
   "pygments_lexer": "ipython3",
   "version": "3.10.8"
  }
 },
 "nbformat": 4,
 "nbformat_minor": 5
}
